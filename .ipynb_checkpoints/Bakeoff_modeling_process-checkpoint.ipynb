{
 "cells": [
  {
   "cell_type": "markdown",
   "metadata": {},
   "source": [
    "# Kings County Housing Prices Bakeoff\n",
    "\n",
    "Below are a list of steps that you should take while trying to complete your bake-off entry."
   ]
  },
  {
   "cell_type": "markdown",
   "metadata": {},
   "source": [
    "## Step 1: Read in Data"
   ]
  },
  {
   "cell_type": "code",
   "execution_count": 1,
   "metadata": {},
   "outputs": [],
   "source": [
    "#Importing necessary libraries\n",
    "import pandas as pd\n",
    "import numpy as np\n",
    "import matplotlib.pyplot as plt\n",
    "%matplotlib inline\n",
    "import seaborn as sns\n",
    "import statsmodels.api as sm\n",
    "from statsmodels.formula.api import ols\n",
    "import math \n",
    "\n",
    "from statsmodels.stats.outliers_influence import variance_inflation_factor\n",
    "from statsmodels.tools.tools import add_constant\n",
    "import scipy.stats as stats\n",
    "from sklearn.model_selection import train_test_split"
   ]
  },
  {
   "cell_type": "code",
   "execution_count": 2,
   "metadata": {},
   "outputs": [],
   "source": [
    "#Loading test and train datasets\n",
    "df2 = pd.read_csv('kc_house_data_test_features.csv', index_col=0)\n",
    "df1 = pd.read_csv('kc_house_data_train.csv', index_col=0)"
   ]
  },
  {
   "cell_type": "markdown",
   "metadata": {},
   "source": [
    "## Step 2: Exploratory Data Analysis \n",
    "    \n",
    "Become familiar with the data.  Look to see if there are any extreme values.  \n",
    "\n",
    "Additionally create data visualizations to determine if there are any relationships between your features and your target variables. "
   ]
  },
  {
   "cell_type": "code",
   "execution_count": 3,
   "metadata": {},
   "outputs": [
    {
     "data": {
      "text/plain": [
       "(17290, 21)"
      ]
     },
     "execution_count": 3,
     "metadata": {},
     "output_type": "execute_result"
    }
   ],
   "source": [
    "df1.shape"
   ]
  },
  {
   "cell_type": "code",
   "execution_count": 4,
   "metadata": {},
   "outputs": [
    {
     "data": {
      "text/plain": [
       "(4323, 20)"
      ]
     },
     "execution_count": 4,
     "metadata": {},
     "output_type": "execute_result"
    }
   ],
   "source": [
    "df_unkown.shape"
   ]
  },
  {
   "cell_type": "code",
   "execution_count": 4,
   "metadata": {},
   "outputs": [
    {
     "data": {
      "text/plain": [
       "Index(['id', 'date', 'price', 'bedrooms', 'bathrooms', 'sqft_living',\n",
       "       'sqft_lot', 'floors', 'waterfront', 'view', 'condition', 'grade',\n",
       "       'sqft_above', 'sqft_basement', 'yr_built', 'yr_renovated', 'zipcode',\n",
       "       'lat', 'long', 'sqft_living15', 'sqft_lot15'],\n",
       "      dtype='object')"
      ]
     },
     "execution_count": 4,
     "metadata": {},
     "output_type": "execute_result"
    }
   ],
   "source": [
    "df1.columns"
   ]
  },
  {
   "cell_type": "code",
   "execution_count": 5,
   "metadata": {},
   "outputs": [
    {
     "data": {
      "text/plain": [
       "Index(['id', 'date', 'bedrooms', 'bathrooms', 'sqft_living', 'sqft_lot',\n",
       "       'floors', 'waterfront', 'view', 'condition', 'grade', 'sqft_above',\n",
       "       'sqft_basement', 'yr_built', 'yr_renovated', 'zipcode', 'lat', 'long',\n",
       "       'sqft_living15', 'sqft_lot15'],\n",
       "      dtype='object')"
      ]
     },
     "execution_count": 5,
     "metadata": {},
     "output_type": "execute_result"
    }
   ],
   "source": [
    "df2.columns"
   ]
  },
  {
   "cell_type": "code",
   "execution_count": 6,
   "metadata": {},
   "outputs": [
    {
     "name": "stdout",
     "output_type": "stream",
     "text": [
      "<class 'pandas.core.frame.DataFrame'>\n",
      "Int64Index: 17290 entries, 0 to 17289\n",
      "Data columns (total 21 columns):\n",
      "id               17290 non-null int64\n",
      "date             17290 non-null object\n",
      "price            17290 non-null float64\n",
      "bedrooms         17290 non-null int64\n",
      "bathrooms        17290 non-null float64\n",
      "sqft_living      17290 non-null int64\n",
      "sqft_lot         17290 non-null int64\n",
      "floors           17290 non-null float64\n",
      "waterfront       17290 non-null int64\n",
      "view             17290 non-null int64\n",
      "condition        17290 non-null int64\n",
      "grade            17290 non-null int64\n",
      "sqft_above       17290 non-null int64\n",
      "sqft_basement    17290 non-null int64\n",
      "yr_built         17290 non-null int64\n",
      "yr_renovated     17290 non-null int64\n",
      "zipcode          17290 non-null int64\n",
      "lat              17290 non-null float64\n",
      "long             17290 non-null float64\n",
      "sqft_living15    17290 non-null int64\n",
      "sqft_lot15       17290 non-null int64\n",
      "dtypes: float64(5), int64(15), object(1)\n",
      "memory usage: 2.9+ MB\n"
     ]
    }
   ],
   "source": [
    "df1.info()"
   ]
  },
  {
   "cell_type": "code",
   "execution_count": 7,
   "metadata": {},
   "outputs": [
    {
     "name": "stdout",
     "output_type": "stream",
     "text": [
      "<class 'pandas.core.frame.DataFrame'>\n",
      "Int64Index: 4323 entries, 0 to 4322\n",
      "Data columns (total 20 columns):\n",
      "id               4323 non-null int64\n",
      "date             4323 non-null object\n",
      "bedrooms         4323 non-null int64\n",
      "bathrooms        4323 non-null float64\n",
      "sqft_living      4323 non-null int64\n",
      "sqft_lot         4323 non-null int64\n",
      "floors           4323 non-null float64\n",
      "waterfront       4323 non-null int64\n",
      "view             4323 non-null int64\n",
      "condition        4323 non-null int64\n",
      "grade            4323 non-null int64\n",
      "sqft_above       4323 non-null int64\n",
      "sqft_basement    4323 non-null int64\n",
      "yr_built         4323 non-null int64\n",
      "yr_renovated     4323 non-null int64\n",
      "zipcode          4323 non-null int64\n",
      "lat              4323 non-null float64\n",
      "long             4323 non-null float64\n",
      "sqft_living15    4323 non-null int64\n",
      "sqft_lot15       4323 non-null int64\n",
      "dtypes: float64(4), int64(15), object(1)\n",
      "memory usage: 709.2+ KB\n"
     ]
    }
   ],
   "source": [
    "df2.info()"
   ]
  },
  {
   "cell_type": "code",
   "execution_count": 8,
   "metadata": {},
   "outputs": [
    {
     "data": {
      "text/html": [
       "<div>\n",
       "<style scoped>\n",
       "    .dataframe tbody tr th:only-of-type {\n",
       "        vertical-align: middle;\n",
       "    }\n",
       "\n",
       "    .dataframe tbody tr th {\n",
       "        vertical-align: top;\n",
       "    }\n",
       "\n",
       "    .dataframe thead th {\n",
       "        text-align: right;\n",
       "    }\n",
       "</style>\n",
       "<table border=\"1\" class=\"dataframe\">\n",
       "  <thead>\n",
       "    <tr style=\"text-align: right;\">\n",
       "      <th></th>\n",
       "      <th>id</th>\n",
       "      <th>date</th>\n",
       "      <th>price</th>\n",
       "      <th>bedrooms</th>\n",
       "      <th>bathrooms</th>\n",
       "      <th>sqft_living</th>\n",
       "      <th>sqft_lot</th>\n",
       "      <th>floors</th>\n",
       "      <th>waterfront</th>\n",
       "      <th>view</th>\n",
       "      <th>condition</th>\n",
       "      <th>grade</th>\n",
       "      <th>sqft_above</th>\n",
       "      <th>sqft_basement</th>\n",
       "      <th>yr_built</th>\n",
       "      <th>yr_renovated</th>\n",
       "      <th>zipcode</th>\n",
       "      <th>lat</th>\n",
       "      <th>long</th>\n",
       "      <th>sqft_living15</th>\n",
       "      <th>sqft_lot15</th>\n",
       "    </tr>\n",
       "  </thead>\n",
       "  <tbody>\n",
       "    <tr>\n",
       "      <th>0</th>\n",
       "      <td>2591820310</td>\n",
       "      <td>20141006T000000</td>\n",
       "      <td>365000.0</td>\n",
       "      <td>4</td>\n",
       "      <td>2.25</td>\n",
       "      <td>2070</td>\n",
       "      <td>8893</td>\n",
       "      <td>2.0</td>\n",
       "      <td>0</td>\n",
       "      <td>0</td>\n",
       "      <td>4</td>\n",
       "      <td>8</td>\n",
       "      <td>2070</td>\n",
       "      <td>0</td>\n",
       "      <td>1986</td>\n",
       "      <td>0</td>\n",
       "      <td>98058</td>\n",
       "      <td>47.4388</td>\n",
       "      <td>-122.162</td>\n",
       "      <td>2390</td>\n",
       "      <td>7700</td>\n",
       "    </tr>\n",
       "    <tr>\n",
       "      <th>1</th>\n",
       "      <td>7974200820</td>\n",
       "      <td>20140821T000000</td>\n",
       "      <td>865000.0</td>\n",
       "      <td>5</td>\n",
       "      <td>3.00</td>\n",
       "      <td>2900</td>\n",
       "      <td>6730</td>\n",
       "      <td>1.0</td>\n",
       "      <td>0</td>\n",
       "      <td>0</td>\n",
       "      <td>5</td>\n",
       "      <td>8</td>\n",
       "      <td>1830</td>\n",
       "      <td>1070</td>\n",
       "      <td>1977</td>\n",
       "      <td>0</td>\n",
       "      <td>98115</td>\n",
       "      <td>47.6784</td>\n",
       "      <td>-122.285</td>\n",
       "      <td>2370</td>\n",
       "      <td>6283</td>\n",
       "    </tr>\n",
       "    <tr>\n",
       "      <th>2</th>\n",
       "      <td>7701450110</td>\n",
       "      <td>20140815T000000</td>\n",
       "      <td>1038000.0</td>\n",
       "      <td>4</td>\n",
       "      <td>2.50</td>\n",
       "      <td>3770</td>\n",
       "      <td>10893</td>\n",
       "      <td>2.0</td>\n",
       "      <td>0</td>\n",
       "      <td>2</td>\n",
       "      <td>3</td>\n",
       "      <td>11</td>\n",
       "      <td>3770</td>\n",
       "      <td>0</td>\n",
       "      <td>1997</td>\n",
       "      <td>0</td>\n",
       "      <td>98006</td>\n",
       "      <td>47.5646</td>\n",
       "      <td>-122.129</td>\n",
       "      <td>3710</td>\n",
       "      <td>9685</td>\n",
       "    </tr>\n",
       "    <tr>\n",
       "      <th>3</th>\n",
       "      <td>9522300010</td>\n",
       "      <td>20150331T000000</td>\n",
       "      <td>1490000.0</td>\n",
       "      <td>3</td>\n",
       "      <td>3.50</td>\n",
       "      <td>4560</td>\n",
       "      <td>14608</td>\n",
       "      <td>2.0</td>\n",
       "      <td>0</td>\n",
       "      <td>2</td>\n",
       "      <td>3</td>\n",
       "      <td>12</td>\n",
       "      <td>4560</td>\n",
       "      <td>0</td>\n",
       "      <td>1990</td>\n",
       "      <td>0</td>\n",
       "      <td>98034</td>\n",
       "      <td>47.6995</td>\n",
       "      <td>-122.228</td>\n",
       "      <td>4050</td>\n",
       "      <td>14226</td>\n",
       "    </tr>\n",
       "    <tr>\n",
       "      <th>4</th>\n",
       "      <td>9510861140</td>\n",
       "      <td>20140714T000000</td>\n",
       "      <td>711000.0</td>\n",
       "      <td>3</td>\n",
       "      <td>2.50</td>\n",
       "      <td>2550</td>\n",
       "      <td>5376</td>\n",
       "      <td>2.0</td>\n",
       "      <td>0</td>\n",
       "      <td>0</td>\n",
       "      <td>3</td>\n",
       "      <td>9</td>\n",
       "      <td>2550</td>\n",
       "      <td>0</td>\n",
       "      <td>2004</td>\n",
       "      <td>0</td>\n",
       "      <td>98052</td>\n",
       "      <td>47.6647</td>\n",
       "      <td>-122.083</td>\n",
       "      <td>2250</td>\n",
       "      <td>4050</td>\n",
       "    </tr>\n",
       "  </tbody>\n",
       "</table>\n",
       "</div>"
      ],
      "text/plain": [
       "           id             date      price  bedrooms  bathrooms  sqft_living  \\\n",
       "0  2591820310  20141006T000000   365000.0         4       2.25         2070   \n",
       "1  7974200820  20140821T000000   865000.0         5       3.00         2900   \n",
       "2  7701450110  20140815T000000  1038000.0         4       2.50         3770   \n",
       "3  9522300010  20150331T000000  1490000.0         3       3.50         4560   \n",
       "4  9510861140  20140714T000000   711000.0         3       2.50         2550   \n",
       "\n",
       "   sqft_lot  floors  waterfront  view  condition  grade  sqft_above  \\\n",
       "0      8893     2.0           0     0          4      8        2070   \n",
       "1      6730     1.0           0     0          5      8        1830   \n",
       "2     10893     2.0           0     2          3     11        3770   \n",
       "3     14608     2.0           0     2          3     12        4560   \n",
       "4      5376     2.0           0     0          3      9        2550   \n",
       "\n",
       "   sqft_basement  yr_built  yr_renovated  zipcode      lat     long  \\\n",
       "0              0      1986             0    98058  47.4388 -122.162   \n",
       "1           1070      1977             0    98115  47.6784 -122.285   \n",
       "2              0      1997             0    98006  47.5646 -122.129   \n",
       "3              0      1990             0    98034  47.6995 -122.228   \n",
       "4              0      2004             0    98052  47.6647 -122.083   \n",
       "\n",
       "   sqft_living15  sqft_lot15  \n",
       "0           2390        7700  \n",
       "1           2370        6283  \n",
       "2           3710        9685  \n",
       "3           4050       14226  \n",
       "4           2250        4050  "
      ]
     },
     "execution_count": 8,
     "metadata": {},
     "output_type": "execute_result"
    }
   ],
   "source": [
    "pd.set_option('display.max_columns', None)\n",
    "df1.head()"
   ]
  },
  {
   "cell_type": "code",
   "execution_count": 9,
   "metadata": {},
   "outputs": [
    {
     "data": {
      "text/html": [
       "<div>\n",
       "<style scoped>\n",
       "    .dataframe tbody tr th:only-of-type {\n",
       "        vertical-align: middle;\n",
       "    }\n",
       "\n",
       "    .dataframe tbody tr th {\n",
       "        vertical-align: top;\n",
       "    }\n",
       "\n",
       "    .dataframe thead th {\n",
       "        text-align: right;\n",
       "    }\n",
       "</style>\n",
       "<table border=\"1\" class=\"dataframe\">\n",
       "  <thead>\n",
       "    <tr style=\"text-align: right;\">\n",
       "      <th></th>\n",
       "      <th>id</th>\n",
       "      <th>date</th>\n",
       "      <th>bedrooms</th>\n",
       "      <th>bathrooms</th>\n",
       "      <th>sqft_living</th>\n",
       "      <th>sqft_lot</th>\n",
       "      <th>floors</th>\n",
       "      <th>waterfront</th>\n",
       "      <th>view</th>\n",
       "      <th>condition</th>\n",
       "      <th>grade</th>\n",
       "      <th>sqft_above</th>\n",
       "      <th>sqft_basement</th>\n",
       "      <th>yr_built</th>\n",
       "      <th>yr_renovated</th>\n",
       "      <th>zipcode</th>\n",
       "      <th>lat</th>\n",
       "      <th>long</th>\n",
       "      <th>sqft_living15</th>\n",
       "      <th>sqft_lot15</th>\n",
       "    </tr>\n",
       "  </thead>\n",
       "  <tbody>\n",
       "    <tr>\n",
       "      <th>0</th>\n",
       "      <td>1974300020</td>\n",
       "      <td>20140827T000000</td>\n",
       "      <td>4</td>\n",
       "      <td>2.50</td>\n",
       "      <td>2270</td>\n",
       "      <td>11500</td>\n",
       "      <td>1.0</td>\n",
       "      <td>0</td>\n",
       "      <td>0</td>\n",
       "      <td>3</td>\n",
       "      <td>8</td>\n",
       "      <td>1540</td>\n",
       "      <td>730</td>\n",
       "      <td>1967</td>\n",
       "      <td>0</td>\n",
       "      <td>98034</td>\n",
       "      <td>47.7089</td>\n",
       "      <td>-122.241</td>\n",
       "      <td>2020</td>\n",
       "      <td>10918</td>\n",
       "    </tr>\n",
       "    <tr>\n",
       "      <th>1</th>\n",
       "      <td>1974300020</td>\n",
       "      <td>20150218T000000</td>\n",
       "      <td>4</td>\n",
       "      <td>2.50</td>\n",
       "      <td>2270</td>\n",
       "      <td>11500</td>\n",
       "      <td>1.0</td>\n",
       "      <td>0</td>\n",
       "      <td>0</td>\n",
       "      <td>3</td>\n",
       "      <td>8</td>\n",
       "      <td>1540</td>\n",
       "      <td>730</td>\n",
       "      <td>1967</td>\n",
       "      <td>0</td>\n",
       "      <td>98034</td>\n",
       "      <td>47.7089</td>\n",
       "      <td>-122.241</td>\n",
       "      <td>2020</td>\n",
       "      <td>10918</td>\n",
       "    </tr>\n",
       "    <tr>\n",
       "      <th>2</th>\n",
       "      <td>3630020380</td>\n",
       "      <td>20141107T000000</td>\n",
       "      <td>3</td>\n",
       "      <td>2.50</td>\n",
       "      <td>1470</td>\n",
       "      <td>1779</td>\n",
       "      <td>2.0</td>\n",
       "      <td>0</td>\n",
       "      <td>0</td>\n",
       "      <td>3</td>\n",
       "      <td>8</td>\n",
       "      <td>1160</td>\n",
       "      <td>310</td>\n",
       "      <td>2005</td>\n",
       "      <td>0</td>\n",
       "      <td>98029</td>\n",
       "      <td>47.5472</td>\n",
       "      <td>-121.998</td>\n",
       "      <td>1470</td>\n",
       "      <td>1576</td>\n",
       "    </tr>\n",
       "    <tr>\n",
       "      <th>3</th>\n",
       "      <td>1771000290</td>\n",
       "      <td>20141203T000000</td>\n",
       "      <td>3</td>\n",
       "      <td>1.75</td>\n",
       "      <td>1280</td>\n",
       "      <td>16200</td>\n",
       "      <td>1.0</td>\n",
       "      <td>0</td>\n",
       "      <td>0</td>\n",
       "      <td>3</td>\n",
       "      <td>8</td>\n",
       "      <td>1030</td>\n",
       "      <td>250</td>\n",
       "      <td>1976</td>\n",
       "      <td>0</td>\n",
       "      <td>98077</td>\n",
       "      <td>47.7427</td>\n",
       "      <td>-122.071</td>\n",
       "      <td>1160</td>\n",
       "      <td>10565</td>\n",
       "    </tr>\n",
       "    <tr>\n",
       "      <th>4</th>\n",
       "      <td>5126310470</td>\n",
       "      <td>20150115T000000</td>\n",
       "      <td>4</td>\n",
       "      <td>2.75</td>\n",
       "      <td>2830</td>\n",
       "      <td>8126</td>\n",
       "      <td>2.0</td>\n",
       "      <td>0</td>\n",
       "      <td>0</td>\n",
       "      <td>3</td>\n",
       "      <td>8</td>\n",
       "      <td>2830</td>\n",
       "      <td>0</td>\n",
       "      <td>2005</td>\n",
       "      <td>0</td>\n",
       "      <td>98059</td>\n",
       "      <td>47.4863</td>\n",
       "      <td>-122.140</td>\n",
       "      <td>2830</td>\n",
       "      <td>7916</td>\n",
       "    </tr>\n",
       "  </tbody>\n",
       "</table>\n",
       "</div>"
      ],
      "text/plain": [
       "           id             date  bedrooms  bathrooms  sqft_living  sqft_lot  \\\n",
       "0  1974300020  20140827T000000         4       2.50         2270     11500   \n",
       "1  1974300020  20150218T000000         4       2.50         2270     11500   \n",
       "2  3630020380  20141107T000000         3       2.50         1470      1779   \n",
       "3  1771000290  20141203T000000         3       1.75         1280     16200   \n",
       "4  5126310470  20150115T000000         4       2.75         2830      8126   \n",
       "\n",
       "   floors  waterfront  view  condition  grade  sqft_above  sqft_basement  \\\n",
       "0     1.0           0     0          3      8        1540            730   \n",
       "1     1.0           0     0          3      8        1540            730   \n",
       "2     2.0           0     0          3      8        1160            310   \n",
       "3     1.0           0     0          3      8        1030            250   \n",
       "4     2.0           0     0          3      8        2830              0   \n",
       "\n",
       "   yr_built  yr_renovated  zipcode      lat     long  sqft_living15  \\\n",
       "0      1967             0    98034  47.7089 -122.241           2020   \n",
       "1      1967             0    98034  47.7089 -122.241           2020   \n",
       "2      2005             0    98029  47.5472 -121.998           1470   \n",
       "3      1976             0    98077  47.7427 -122.071           1160   \n",
       "4      2005             0    98059  47.4863 -122.140           2830   \n",
       "\n",
       "   sqft_lot15  \n",
       "0       10918  \n",
       "1       10918  \n",
       "2        1576  \n",
       "3       10565  \n",
       "4        7916  "
      ]
     },
     "execution_count": 9,
     "metadata": {},
     "output_type": "execute_result"
    }
   ],
   "source": [
    "df2.head()"
   ]
  },
  {
   "cell_type": "code",
   "execution_count": 10,
   "metadata": {},
   "outputs": [
    {
     "data": {
      "text/html": [
       "<div>\n",
       "<style scoped>\n",
       "    .dataframe tbody tr th:only-of-type {\n",
       "        vertical-align: middle;\n",
       "    }\n",
       "\n",
       "    .dataframe tbody tr th {\n",
       "        vertical-align: top;\n",
       "    }\n",
       "\n",
       "    .dataframe thead th {\n",
       "        text-align: right;\n",
       "    }\n",
       "</style>\n",
       "<table border=\"1\" class=\"dataframe\">\n",
       "  <thead>\n",
       "    <tr style=\"text-align: right;\">\n",
       "      <th></th>\n",
       "      <th>id</th>\n",
       "      <th>price</th>\n",
       "      <th>bedrooms</th>\n",
       "      <th>bathrooms</th>\n",
       "      <th>sqft_living</th>\n",
       "      <th>sqft_lot</th>\n",
       "      <th>floors</th>\n",
       "      <th>waterfront</th>\n",
       "      <th>view</th>\n",
       "      <th>condition</th>\n",
       "      <th>grade</th>\n",
       "      <th>sqft_above</th>\n",
       "      <th>sqft_basement</th>\n",
       "      <th>yr_built</th>\n",
       "      <th>yr_renovated</th>\n",
       "      <th>zipcode</th>\n",
       "      <th>lat</th>\n",
       "      <th>long</th>\n",
       "      <th>sqft_living15</th>\n",
       "      <th>sqft_lot15</th>\n",
       "    </tr>\n",
       "  </thead>\n",
       "  <tbody>\n",
       "    <tr>\n",
       "      <th>count</th>\n",
       "      <td>17290.000000</td>\n",
       "      <td>17290.000000</td>\n",
       "      <td>17290.000000</td>\n",
       "      <td>17290.000000</td>\n",
       "      <td>17290.000000</td>\n",
       "      <td>17290.000000</td>\n",
       "      <td>17290.000000</td>\n",
       "      <td>17290.000000</td>\n",
       "      <td>17290.000000</td>\n",
       "      <td>17290.000000</td>\n",
       "      <td>17290.000000</td>\n",
       "      <td>17290.000000</td>\n",
       "      <td>17290.000000</td>\n",
       "      <td>17290.000000</td>\n",
       "      <td>17290.000000</td>\n",
       "      <td>17290.000000</td>\n",
       "      <td>17290.000000</td>\n",
       "      <td>17290.000000</td>\n",
       "      <td>17290.000000</td>\n",
       "      <td>17290.000000</td>\n",
       "    </tr>\n",
       "    <tr>\n",
       "      <th>mean</th>\n",
       "      <td>4565501756.436553</td>\n",
       "      <td>540739.548641</td>\n",
       "      <td>3.372470</td>\n",
       "      <td>2.111943</td>\n",
       "      <td>2081.464604</td>\n",
       "      <td>15243.399884</td>\n",
       "      <td>1.490312</td>\n",
       "      <td>0.007981</td>\n",
       "      <td>0.238519</td>\n",
       "      <td>3.408502</td>\n",
       "      <td>7.654425</td>\n",
       "      <td>1789.306015</td>\n",
       "      <td>292.158589</td>\n",
       "      <td>1970.792019</td>\n",
       "      <td>83.806304</td>\n",
       "      <td>98078.193175</td>\n",
       "      <td>47.560058</td>\n",
       "      <td>-122.214258</td>\n",
       "      <td>1987.986698</td>\n",
       "      <td>12873.475824</td>\n",
       "    </tr>\n",
       "    <tr>\n",
       "      <th>std</th>\n",
       "      <td>2874655595.362363</td>\n",
       "      <td>373318.978749</td>\n",
       "      <td>0.939346</td>\n",
       "      <td>0.770476</td>\n",
       "      <td>920.018539</td>\n",
       "      <td>42304.623788</td>\n",
       "      <td>0.538909</td>\n",
       "      <td>0.088985</td>\n",
       "      <td>0.775229</td>\n",
       "      <td>0.651296</td>\n",
       "      <td>1.174718</td>\n",
       "      <td>829.265107</td>\n",
       "      <td>443.151874</td>\n",
       "      <td>29.343516</td>\n",
       "      <td>400.329376</td>\n",
       "      <td>53.607949</td>\n",
       "      <td>0.138412</td>\n",
       "      <td>0.140857</td>\n",
       "      <td>684.802635</td>\n",
       "      <td>27227.437583</td>\n",
       "    </tr>\n",
       "    <tr>\n",
       "      <th>min</th>\n",
       "      <td>1000102.000000</td>\n",
       "      <td>75000.000000</td>\n",
       "      <td>0.000000</td>\n",
       "      <td>0.000000</td>\n",
       "      <td>290.000000</td>\n",
       "      <td>572.000000</td>\n",
       "      <td>1.000000</td>\n",
       "      <td>0.000000</td>\n",
       "      <td>0.000000</td>\n",
       "      <td>1.000000</td>\n",
       "      <td>1.000000</td>\n",
       "      <td>290.000000</td>\n",
       "      <td>0.000000</td>\n",
       "      <td>1900.000000</td>\n",
       "      <td>0.000000</td>\n",
       "      <td>98001.000000</td>\n",
       "      <td>47.155900</td>\n",
       "      <td>-122.519000</td>\n",
       "      <td>399.000000</td>\n",
       "      <td>659.000000</td>\n",
       "    </tr>\n",
       "    <tr>\n",
       "      <th>25%</th>\n",
       "      <td>2114700558.750000</td>\n",
       "      <td>321000.000000</td>\n",
       "      <td>3.000000</td>\n",
       "      <td>1.500000</td>\n",
       "      <td>1430.000000</td>\n",
       "      <td>5081.250000</td>\n",
       "      <td>1.000000</td>\n",
       "      <td>0.000000</td>\n",
       "      <td>0.000000</td>\n",
       "      <td>3.000000</td>\n",
       "      <td>7.000000</td>\n",
       "      <td>1200.000000</td>\n",
       "      <td>0.000000</td>\n",
       "      <td>1951.000000</td>\n",
       "      <td>0.000000</td>\n",
       "      <td>98033.000000</td>\n",
       "      <td>47.471200</td>\n",
       "      <td>-122.329000</td>\n",
       "      <td>1490.000000</td>\n",
       "      <td>5111.250000</td>\n",
       "    </tr>\n",
       "    <tr>\n",
       "      <th>50%</th>\n",
       "      <td>3903650042.500000</td>\n",
       "      <td>450000.000000</td>\n",
       "      <td>3.000000</td>\n",
       "      <td>2.250000</td>\n",
       "      <td>1920.000000</td>\n",
       "      <td>7642.000000</td>\n",
       "      <td>1.500000</td>\n",
       "      <td>0.000000</td>\n",
       "      <td>0.000000</td>\n",
       "      <td>3.000000</td>\n",
       "      <td>7.000000</td>\n",
       "      <td>1560.000000</td>\n",
       "      <td>0.000000</td>\n",
       "      <td>1974.000000</td>\n",
       "      <td>0.000000</td>\n",
       "      <td>98065.000000</td>\n",
       "      <td>47.571600</td>\n",
       "      <td>-122.230000</td>\n",
       "      <td>1840.000000</td>\n",
       "      <td>7622.500000</td>\n",
       "    </tr>\n",
       "    <tr>\n",
       "      <th>75%</th>\n",
       "      <td>7301150051.500000</td>\n",
       "      <td>645000.000000</td>\n",
       "      <td>4.000000</td>\n",
       "      <td>2.500000</td>\n",
       "      <td>2550.000000</td>\n",
       "      <td>10725.750000</td>\n",
       "      <td>2.000000</td>\n",
       "      <td>0.000000</td>\n",
       "      <td>0.000000</td>\n",
       "      <td>4.000000</td>\n",
       "      <td>8.000000</td>\n",
       "      <td>2214.500000</td>\n",
       "      <td>560.000000</td>\n",
       "      <td>1996.000000</td>\n",
       "      <td>0.000000</td>\n",
       "      <td>98118.000000</td>\n",
       "      <td>47.677900</td>\n",
       "      <td>-122.126000</td>\n",
       "      <td>2360.000000</td>\n",
       "      <td>10101.750000</td>\n",
       "    </tr>\n",
       "    <tr>\n",
       "      <th>max</th>\n",
       "      <td>9900000190.000000</td>\n",
       "      <td>7700000.000000</td>\n",
       "      <td>33.000000</td>\n",
       "      <td>8.000000</td>\n",
       "      <td>13540.000000</td>\n",
       "      <td>1651359.000000</td>\n",
       "      <td>3.500000</td>\n",
       "      <td>1.000000</td>\n",
       "      <td>4.000000</td>\n",
       "      <td>5.000000</td>\n",
       "      <td>13.000000</td>\n",
       "      <td>9410.000000</td>\n",
       "      <td>4820.000000</td>\n",
       "      <td>2015.000000</td>\n",
       "      <td>2015.000000</td>\n",
       "      <td>98199.000000</td>\n",
       "      <td>47.777600</td>\n",
       "      <td>-121.315000</td>\n",
       "      <td>6210.000000</td>\n",
       "      <td>858132.000000</td>\n",
       "    </tr>\n",
       "  </tbody>\n",
       "</table>\n",
       "</div>"
      ],
      "text/plain": [
       "                      id           price      bedrooms     bathrooms  \\\n",
       "count       17290.000000    17290.000000  17290.000000  17290.000000   \n",
       "mean   4565501756.436553   540739.548641      3.372470      2.111943   \n",
       "std    2874655595.362363   373318.978749      0.939346      0.770476   \n",
       "min       1000102.000000    75000.000000      0.000000      0.000000   \n",
       "25%    2114700558.750000   321000.000000      3.000000      1.500000   \n",
       "50%    3903650042.500000   450000.000000      3.000000      2.250000   \n",
       "75%    7301150051.500000   645000.000000      4.000000      2.500000   \n",
       "max    9900000190.000000  7700000.000000     33.000000      8.000000   \n",
       "\n",
       "        sqft_living        sqft_lot        floors    waterfront          view  \\\n",
       "count  17290.000000    17290.000000  17290.000000  17290.000000  17290.000000   \n",
       "mean    2081.464604    15243.399884      1.490312      0.007981      0.238519   \n",
       "std      920.018539    42304.623788      0.538909      0.088985      0.775229   \n",
       "min      290.000000      572.000000      1.000000      0.000000      0.000000   \n",
       "25%     1430.000000     5081.250000      1.000000      0.000000      0.000000   \n",
       "50%     1920.000000     7642.000000      1.500000      0.000000      0.000000   \n",
       "75%     2550.000000    10725.750000      2.000000      0.000000      0.000000   \n",
       "max    13540.000000  1651359.000000      3.500000      1.000000      4.000000   \n",
       "\n",
       "          condition         grade    sqft_above sqft_basement      yr_built  \\\n",
       "count  17290.000000  17290.000000  17290.000000  17290.000000  17290.000000   \n",
       "mean       3.408502      7.654425   1789.306015    292.158589   1970.792019   \n",
       "std        0.651296      1.174718    829.265107    443.151874     29.343516   \n",
       "min        1.000000      1.000000    290.000000      0.000000   1900.000000   \n",
       "25%        3.000000      7.000000   1200.000000      0.000000   1951.000000   \n",
       "50%        3.000000      7.000000   1560.000000      0.000000   1974.000000   \n",
       "75%        4.000000      8.000000   2214.500000    560.000000   1996.000000   \n",
       "max        5.000000     13.000000   9410.000000   4820.000000   2015.000000   \n",
       "\n",
       "       yr_renovated       zipcode           lat          long sqft_living15  \\\n",
       "count  17290.000000  17290.000000  17290.000000  17290.000000  17290.000000   \n",
       "mean      83.806304  98078.193175     47.560058   -122.214258   1987.986698   \n",
       "std      400.329376     53.607949      0.138412      0.140857    684.802635   \n",
       "min        0.000000  98001.000000     47.155900   -122.519000    399.000000   \n",
       "25%        0.000000  98033.000000     47.471200   -122.329000   1490.000000   \n",
       "50%        0.000000  98065.000000     47.571600   -122.230000   1840.000000   \n",
       "75%        0.000000  98118.000000     47.677900   -122.126000   2360.000000   \n",
       "max     2015.000000  98199.000000     47.777600   -121.315000   6210.000000   \n",
       "\n",
       "          sqft_lot15  \n",
       "count   17290.000000  \n",
       "mean    12873.475824  \n",
       "std     27227.437583  \n",
       "min       659.000000  \n",
       "25%      5111.250000  \n",
       "50%      7622.500000  \n",
       "75%     10101.750000  \n",
       "max    858132.000000  "
      ]
     },
     "execution_count": 10,
     "metadata": {},
     "output_type": "execute_result"
    }
   ],
   "source": [
    "df1.describe().apply(lambda s: s.apply(lambda x: format(x, 'f')))"
   ]
  },
  {
   "cell_type": "markdown",
   "metadata": {},
   "source": [
    "* bedrooms: the min is 0. This will have to be looked into\n",
    "* bedrooms: the max is 33. Could this really be? maybe look at the sqft living for that row with 33 \n",
    "* bathrooms: the min is 0. This will also have to be looked into\n"
   ]
  },
  {
   "cell_type": "code",
   "execution_count": 11,
   "metadata": {},
   "outputs": [
    {
     "data": {
      "text/html": [
       "<div>\n",
       "<style scoped>\n",
       "    .dataframe tbody tr th:only-of-type {\n",
       "        vertical-align: middle;\n",
       "    }\n",
       "\n",
       "    .dataframe tbody tr th {\n",
       "        vertical-align: top;\n",
       "    }\n",
       "\n",
       "    .dataframe thead th {\n",
       "        text-align: right;\n",
       "    }\n",
       "</style>\n",
       "<table border=\"1\" class=\"dataframe\">\n",
       "  <thead>\n",
       "    <tr style=\"text-align: right;\">\n",
       "      <th></th>\n",
       "      <th>id</th>\n",
       "      <th>bedrooms</th>\n",
       "      <th>bathrooms</th>\n",
       "      <th>sqft_living</th>\n",
       "      <th>sqft_lot</th>\n",
       "      <th>floors</th>\n",
       "      <th>waterfront</th>\n",
       "      <th>view</th>\n",
       "      <th>condition</th>\n",
       "      <th>grade</th>\n",
       "      <th>sqft_above</th>\n",
       "      <th>sqft_basement</th>\n",
       "      <th>yr_built</th>\n",
       "      <th>yr_renovated</th>\n",
       "      <th>zipcode</th>\n",
       "      <th>lat</th>\n",
       "      <th>long</th>\n",
       "      <th>sqft_living15</th>\n",
       "      <th>sqft_lot15</th>\n",
       "    </tr>\n",
       "  </thead>\n",
       "  <tbody>\n",
       "    <tr>\n",
       "      <th>count</th>\n",
       "      <td>4323.000000</td>\n",
       "      <td>4323.000000</td>\n",
       "      <td>4323.000000</td>\n",
       "      <td>4323.000000</td>\n",
       "      <td>4323.000000</td>\n",
       "      <td>4323.000000</td>\n",
       "      <td>4323.000000</td>\n",
       "      <td>4323.000000</td>\n",
       "      <td>4323.000000</td>\n",
       "      <td>4323.000000</td>\n",
       "      <td>4323.000000</td>\n",
       "      <td>4323.000000</td>\n",
       "      <td>4323.000000</td>\n",
       "      <td>4323.000000</td>\n",
       "      <td>4323.000000</td>\n",
       "      <td>4323.000000</td>\n",
       "      <td>4323.000000</td>\n",
       "      <td>4323.000000</td>\n",
       "      <td>4323.000000</td>\n",
       "    </tr>\n",
       "    <tr>\n",
       "      <th>mean</th>\n",
       "      <td>4625408959.804996</td>\n",
       "      <td>3.387231</td>\n",
       "      <td>2.322056</td>\n",
       "      <td>2183.344899</td>\n",
       "      <td>12750.177423</td>\n",
       "      <td>1.738723</td>\n",
       "      <td>0.006477</td>\n",
       "      <td>0.201249</td>\n",
       "      <td>3.248439</td>\n",
       "      <td>7.904696</td>\n",
       "      <td>1936.424474</td>\n",
       "      <td>246.920426</td>\n",
       "      <td>1985.545686</td>\n",
       "      <td>64.198705</td>\n",
       "      <td>98077.777932</td>\n",
       "      <td>47.560232</td>\n",
       "      <td>-122.209611</td>\n",
       "      <td>2031.962757</td>\n",
       "      <td>10789.035855</td>\n",
       "    </tr>\n",
       "    <tr>\n",
       "      <th>std</th>\n",
       "      <td>2920358721.688492</td>\n",
       "      <td>0.906016</td>\n",
       "      <td>0.782063</td>\n",
       "      <td>966.768796</td>\n",
       "      <td>40639.425496</td>\n",
       "      <td>0.586193</td>\n",
       "      <td>0.080228</td>\n",
       "      <td>0.711334</td>\n",
       "      <td>0.554978</td>\n",
       "      <td>1.167461</td>\n",
       "      <td>895.247498</td>\n",
       "      <td>408.555950</td>\n",
       "      <td>30.572267</td>\n",
       "      <td>352.271856</td>\n",
       "      <td>50.974730</td>\n",
       "      <td>0.133668</td>\n",
       "      <td>0.147649</td>\n",
       "      <td>727.968964</td>\n",
       "      <td>27415.348930</td>\n",
       "    </tr>\n",
       "    <tr>\n",
       "      <th>min</th>\n",
       "      <td>3600072.000000</td>\n",
       "      <td>0.000000</td>\n",
       "      <td>0.000000</td>\n",
       "      <td>290.000000</td>\n",
       "      <td>635.000000</td>\n",
       "      <td>1.000000</td>\n",
       "      <td>0.000000</td>\n",
       "      <td>0.000000</td>\n",
       "      <td>1.000000</td>\n",
       "      <td>1.000000</td>\n",
       "      <td>290.000000</td>\n",
       "      <td>0.000000</td>\n",
       "      <td>1900.000000</td>\n",
       "      <td>0.000000</td>\n",
       "      <td>98001.000000</td>\n",
       "      <td>47.185300</td>\n",
       "      <td>-122.505000</td>\n",
       "      <td>620.000000</td>\n",
       "      <td>651.000000</td>\n",
       "    </tr>\n",
       "    <tr>\n",
       "      <th>25%</th>\n",
       "      <td>2125734752.000000</td>\n",
       "      <td>3.000000</td>\n",
       "      <td>1.750000</td>\n",
       "      <td>1452.000000</td>\n",
       "      <td>3800.500000</td>\n",
       "      <td>1.000000</td>\n",
       "      <td>0.000000</td>\n",
       "      <td>0.000000</td>\n",
       "      <td>3.000000</td>\n",
       "      <td>7.000000</td>\n",
       "      <td>1248.000000</td>\n",
       "      <td>0.000000</td>\n",
       "      <td>1964.000000</td>\n",
       "      <td>0.000000</td>\n",
       "      <td>98033.000000</td>\n",
       "      <td>47.487400</td>\n",
       "      <td>-122.334000</td>\n",
       "      <td>1480.000000</td>\n",
       "      <td>4000.000000</td>\n",
       "    </tr>\n",
       "    <tr>\n",
       "      <th>50%</th>\n",
       "      <td>3834000820.000000</td>\n",
       "      <td>3.000000</td>\n",
       "      <td>2.500000</td>\n",
       "      <td>2000.000000</td>\n",
       "      <td>6000.000000</td>\n",
       "      <td>2.000000</td>\n",
       "      <td>0.000000</td>\n",
       "      <td>0.000000</td>\n",
       "      <td>3.000000</td>\n",
       "      <td>8.000000</td>\n",
       "      <td>1690.000000</td>\n",
       "      <td>0.000000</td>\n",
       "      <td>2002.000000</td>\n",
       "      <td>0.000000</td>\n",
       "      <td>98065.000000</td>\n",
       "      <td>47.567400</td>\n",
       "      <td>-122.230000</td>\n",
       "      <td>1870.000000</td>\n",
       "      <td>6000.000000</td>\n",
       "    </tr>\n",
       "    <tr>\n",
       "      <th>75%</th>\n",
       "      <td>7504000830.000000</td>\n",
       "      <td>4.000000</td>\n",
       "      <td>2.500000</td>\n",
       "      <td>2730.000000</td>\n",
       "      <td>9156.000000</td>\n",
       "      <td>2.000000</td>\n",
       "      <td>0.000000</td>\n",
       "      <td>0.000000</td>\n",
       "      <td>3.000000</td>\n",
       "      <td>9.000000</td>\n",
       "      <td>2520.000000</td>\n",
       "      <td>418.500000</td>\n",
       "      <td>2009.000000</td>\n",
       "      <td>0.000000</td>\n",
       "      <td>98117.000000</td>\n",
       "      <td>47.673450</td>\n",
       "      <td>-122.115000</td>\n",
       "      <td>2460.000000</td>\n",
       "      <td>9000.000000</td>\n",
       "    </tr>\n",
       "    <tr>\n",
       "      <th>max</th>\n",
       "      <td>9895000040.000000</td>\n",
       "      <td>10.000000</td>\n",
       "      <td>6.500000</td>\n",
       "      <td>8020.000000</td>\n",
       "      <td>1164794.000000</td>\n",
       "      <td>3.500000</td>\n",
       "      <td>1.000000</td>\n",
       "      <td>4.000000</td>\n",
       "      <td>5.000000</td>\n",
       "      <td>13.000000</td>\n",
       "      <td>8020.000000</td>\n",
       "      <td>2810.000000</td>\n",
       "      <td>2015.000000</td>\n",
       "      <td>2015.000000</td>\n",
       "      <td>98199.000000</td>\n",
       "      <td>47.777600</td>\n",
       "      <td>-121.364000</td>\n",
       "      <td>6210.000000</td>\n",
       "      <td>858132.000000</td>\n",
       "    </tr>\n",
       "  </tbody>\n",
       "</table>\n",
       "</div>"
      ],
      "text/plain": [
       "                      id     bedrooms    bathrooms  sqft_living  \\\n",
       "count        4323.000000  4323.000000  4323.000000  4323.000000   \n",
       "mean   4625408959.804996     3.387231     2.322056  2183.344899   \n",
       "std    2920358721.688492     0.906016     0.782063   966.768796   \n",
       "min       3600072.000000     0.000000     0.000000   290.000000   \n",
       "25%    2125734752.000000     3.000000     1.750000  1452.000000   \n",
       "50%    3834000820.000000     3.000000     2.500000  2000.000000   \n",
       "75%    7504000830.000000     4.000000     2.500000  2730.000000   \n",
       "max    9895000040.000000    10.000000     6.500000  8020.000000   \n",
       "\n",
       "             sqft_lot       floors   waterfront         view    condition  \\\n",
       "count     4323.000000  4323.000000  4323.000000  4323.000000  4323.000000   \n",
       "mean     12750.177423     1.738723     0.006477     0.201249     3.248439   \n",
       "std      40639.425496     0.586193     0.080228     0.711334     0.554978   \n",
       "min        635.000000     1.000000     0.000000     0.000000     1.000000   \n",
       "25%       3800.500000     1.000000     0.000000     0.000000     3.000000   \n",
       "50%       6000.000000     2.000000     0.000000     0.000000     3.000000   \n",
       "75%       9156.000000     2.000000     0.000000     0.000000     3.000000   \n",
       "max    1164794.000000     3.500000     1.000000     4.000000     5.000000   \n",
       "\n",
       "             grade   sqft_above sqft_basement     yr_built yr_renovated  \\\n",
       "count  4323.000000  4323.000000   4323.000000  4323.000000  4323.000000   \n",
       "mean      7.904696  1936.424474    246.920426  1985.545686    64.198705   \n",
       "std       1.167461   895.247498    408.555950    30.572267   352.271856   \n",
       "min       1.000000   290.000000      0.000000  1900.000000     0.000000   \n",
       "25%       7.000000  1248.000000      0.000000  1964.000000     0.000000   \n",
       "50%       8.000000  1690.000000      0.000000  2002.000000     0.000000   \n",
       "75%       9.000000  2520.000000    418.500000  2009.000000     0.000000   \n",
       "max      13.000000  8020.000000   2810.000000  2015.000000  2015.000000   \n",
       "\n",
       "            zipcode          lat         long sqft_living15     sqft_lot15  \n",
       "count   4323.000000  4323.000000  4323.000000   4323.000000    4323.000000  \n",
       "mean   98077.777932    47.560232  -122.209611   2031.962757   10789.035855  \n",
       "std       50.974730     0.133668     0.147649    727.968964   27415.348930  \n",
       "min    98001.000000    47.185300  -122.505000    620.000000     651.000000  \n",
       "25%    98033.000000    47.487400  -122.334000   1480.000000    4000.000000  \n",
       "50%    98065.000000    47.567400  -122.230000   1870.000000    6000.000000  \n",
       "75%    98117.000000    47.673450  -122.115000   2460.000000    9000.000000  \n",
       "max    98199.000000    47.777600  -121.364000   6210.000000  858132.000000  "
      ]
     },
     "execution_count": 11,
     "metadata": {},
     "output_type": "execute_result"
    }
   ],
   "source": [
    "df2.describe().apply(lambda s: s.apply(lambda x: format(x, 'f')))"
   ]
  },
  {
   "cell_type": "markdown",
   "metadata": {},
   "source": [
    "* Look at Coefficient of Variation in the variables.\n",
    "* bedrooms: the min is 0. This will have to be looked into\n",
    "* bathrooms: the min is 0. This will also have to be looked into\n",
    "* floors: max of 3.5. The .5 floor needs to be looked into"
   ]
  },
  {
   "cell_type": "code",
   "execution_count": 12,
   "metadata": {
    "collapsed": true
   },
   "outputs": [
    {
     "data": {
      "text/plain": [
       "id               17176\n",
       "date               371\n",
       "price             3534\n",
       "bedrooms            13\n",
       "bathrooms           30\n",
       "sqft_living        947\n",
       "sqft_lot          8428\n",
       "floors               6\n",
       "waterfront           2\n",
       "view                 5\n",
       "condition            5\n",
       "grade               12\n",
       "sqft_above         867\n",
       "sqft_basement      290\n",
       "yr_built           116\n",
       "yr_renovated        69\n",
       "zipcode             70\n",
       "lat               4837\n",
       "long               733\n",
       "sqft_living15      714\n",
       "sqft_lot15        7582\n",
       "dtype: int64"
      ]
     },
     "execution_count": 12,
     "metadata": {},
     "output_type": "execute_result"
    }
   ],
   "source": [
    "df1.nunique(axis=0)"
   ]
  },
  {
   "cell_type": "code",
   "execution_count": 13,
   "metadata": {
    "collapsed": true
   },
   "outputs": [
    {
     "data": {
      "image/png": "[encoded data removed]",
      "text/plain": [
       "<Figure size 1440x1080 with 20 Axes>"
      ]
     },
     "metadata": {
      "needs_background": "light"
     },
     "output_type": "display_data"
    }
   ],
   "source": [
    "df1.hist(bins=50, figsize=(20,15))\n",
    "plt.show()"
   ]
  },
  {
   "cell_type": "code",
   "execution_count": 14,
   "metadata": {
    "collapsed": true
   },
   "outputs": [
    {
     "data": {
      "text/html": [
       "<div>\n",
       "<style scoped>\n",
       "    .dataframe tbody tr th:only-of-type {\n",
       "        vertical-align: middle;\n",
       "    }\n",
       "\n",
       "    .dataframe tbody tr th {\n",
       "        vertical-align: top;\n",
       "    }\n",
       "\n",
       "    .dataframe thead th {\n",
       "        text-align: right;\n",
       "    }\n",
       "</style>\n",
       "<table border=\"1\" class=\"dataframe\">\n",
       "  <thead>\n",
       "    <tr style=\"text-align: right;\">\n",
       "      <th></th>\n",
       "      <th>id</th>\n",
       "      <th>price</th>\n",
       "      <th>bedrooms</th>\n",
       "      <th>bathrooms</th>\n",
       "      <th>sqft_living</th>\n",
       "      <th>sqft_lot</th>\n",
       "      <th>floors</th>\n",
       "      <th>waterfront</th>\n",
       "      <th>view</th>\n",
       "      <th>condition</th>\n",
       "      <th>grade</th>\n",
       "      <th>sqft_above</th>\n",
       "      <th>sqft_basement</th>\n",
       "      <th>yr_built</th>\n",
       "      <th>yr_renovated</th>\n",
       "      <th>zipcode</th>\n",
       "      <th>lat</th>\n",
       "      <th>long</th>\n",
       "      <th>sqft_living15</th>\n",
       "      <th>sqft_lot15</th>\n",
       "    </tr>\n",
       "  </thead>\n",
       "  <tbody>\n",
       "    <tr>\n",
       "      <th>id</th>\n",
       "      <td>1.000000</td>\n",
       "      <td>-0.015644</td>\n",
       "      <td>-0.001529</td>\n",
       "      <td>0.003833</td>\n",
       "      <td>-0.014251</td>\n",
       "      <td>-0.129837</td>\n",
       "      <td>0.017126</td>\n",
       "      <td>0.000101</td>\n",
       "      <td>0.012594</td>\n",
       "      <td>-0.014272</td>\n",
       "      <td>0.003163</td>\n",
       "      <td>-0.013932</td>\n",
       "      <td>-0.003516</td>\n",
       "      <td>0.013697</td>\n",
       "      <td>-0.019560</td>\n",
       "      <td>-0.008166</td>\n",
       "      <td>-0.001865</td>\n",
       "      <td>0.017388</td>\n",
       "      <td>-0.007494</td>\n",
       "      <td>-0.139605</td>\n",
       "    </tr>\n",
       "    <tr>\n",
       "      <th>price</th>\n",
       "      <td>-0.015644</td>\n",
       "      <td>1.000000</td>\n",
       "      <td>0.305106</td>\n",
       "      <td>0.524335</td>\n",
       "      <td>0.703540</td>\n",
       "      <td>0.086803</td>\n",
       "      <td>0.256985</td>\n",
       "      <td>0.275779</td>\n",
       "      <td>0.395485</td>\n",
       "      <td>0.036099</td>\n",
       "      <td>0.666215</td>\n",
       "      <td>0.607760</td>\n",
       "      <td>0.323312</td>\n",
       "      <td>0.056450</td>\n",
       "      <td>0.117770</td>\n",
       "      <td>-0.048958</td>\n",
       "      <td>0.302394</td>\n",
       "      <td>0.019327</td>\n",
       "      <td>0.585567</td>\n",
       "      <td>0.081423</td>\n",
       "    </tr>\n",
       "    <tr>\n",
       "      <th>bedrooms</th>\n",
       "      <td>-0.001529</td>\n",
       "      <td>0.305106</td>\n",
       "      <td>1.000000</td>\n",
       "      <td>0.507867</td>\n",
       "      <td>0.570428</td>\n",
       "      <td>0.029375</td>\n",
       "      <td>0.172975</td>\n",
       "      <td>-0.008581</td>\n",
       "      <td>0.079741</td>\n",
       "      <td>0.025266</td>\n",
       "      <td>0.354679</td>\n",
       "      <td>0.472492</td>\n",
       "      <td>0.300085</td>\n",
       "      <td>0.153769</td>\n",
       "      <td>0.013679</td>\n",
       "      <td>-0.147515</td>\n",
       "      <td>-0.002170</td>\n",
       "      <td>0.124279</td>\n",
       "      <td>0.387589</td>\n",
       "      <td>0.026665</td>\n",
       "    </tr>\n",
       "    <tr>\n",
       "      <th>bathrooms</th>\n",
       "      <td>0.003833</td>\n",
       "      <td>0.524335</td>\n",
       "      <td>0.507867</td>\n",
       "      <td>1.000000</td>\n",
       "      <td>0.755270</td>\n",
       "      <td>0.085470</td>\n",
       "      <td>0.497967</td>\n",
       "      <td>0.065848</td>\n",
       "      <td>0.188817</td>\n",
       "      <td>-0.122976</td>\n",
       "      <td>0.664191</td>\n",
       "      <td>0.686853</td>\n",
       "      <td>0.282700</td>\n",
       "      <td>0.507761</td>\n",
       "      <td>0.048140</td>\n",
       "      <td>-0.201527</td>\n",
       "      <td>0.023074</td>\n",
       "      <td>0.221308</td>\n",
       "      <td>0.568080</td>\n",
       "      <td>0.086499</td>\n",
       "    </tr>\n",
       "    <tr>\n",
       "      <th>sqft_living</th>\n",
       "      <td>-0.014251</td>\n",
       "      <td>0.703540</td>\n",
       "      <td>0.570428</td>\n",
       "      <td>0.755270</td>\n",
       "      <td>1.000000</td>\n",
       "      <td>0.166810</td>\n",
       "      <td>0.357169</td>\n",
       "      <td>0.109738</td>\n",
       "      <td>0.283336</td>\n",
       "      <td>-0.061530</td>\n",
       "      <td>0.762929</td>\n",
       "      <td>0.876696</td>\n",
       "      <td>0.435529</td>\n",
       "      <td>0.319397</td>\n",
       "      <td>0.051448</td>\n",
       "      <td>-0.195893</td>\n",
       "      <td>0.052646</td>\n",
       "      <td>0.234453</td>\n",
       "      <td>0.755066</td>\n",
       "      <td>0.179570</td>\n",
       "    </tr>\n",
       "    <tr>\n",
       "      <th>sqft_lot</th>\n",
       "      <td>-0.129837</td>\n",
       "      <td>0.086803</td>\n",
       "      <td>0.029375</td>\n",
       "      <td>0.085470</td>\n",
       "      <td>0.166810</td>\n",
       "      <td>1.000000</td>\n",
       "      <td>-0.002205</td>\n",
       "      <td>0.015356</td>\n",
       "      <td>0.073058</td>\n",
       "      <td>-0.013715</td>\n",
       "      <td>0.110320</td>\n",
       "      <td>0.180755</td>\n",
       "      <td>0.008065</td>\n",
       "      <td>0.054228</td>\n",
       "      <td>0.004520</td>\n",
       "      <td>-0.126590</td>\n",
       "      <td>-0.082029</td>\n",
       "      <td>0.226190</td>\n",
       "      <td>0.136959</td>\n",
       "      <td>0.701875</td>\n",
       "    </tr>\n",
       "    <tr>\n",
       "      <th>floors</th>\n",
       "      <td>0.017126</td>\n",
       "      <td>0.256985</td>\n",
       "      <td>0.172975</td>\n",
       "      <td>0.497967</td>\n",
       "      <td>0.357169</td>\n",
       "      <td>-0.002205</td>\n",
       "      <td>1.000000</td>\n",
       "      <td>0.025132</td>\n",
       "      <td>0.025883</td>\n",
       "      <td>-0.259230</td>\n",
       "      <td>0.458984</td>\n",
       "      <td>0.528509</td>\n",
       "      <td>-0.247481</td>\n",
       "      <td>0.483657</td>\n",
       "      <td>0.005985</td>\n",
       "      <td>-0.060560</td>\n",
       "      <td>0.048227</td>\n",
       "      <td>0.128795</td>\n",
       "      <td>0.283933</td>\n",
       "      <td>-0.008170</td>\n",
       "    </tr>\n",
       "    <tr>\n",
       "      <th>waterfront</th>\n",
       "      <td>0.000101</td>\n",
       "      <td>0.275779</td>\n",
       "      <td>-0.008581</td>\n",
       "      <td>0.065848</td>\n",
       "      <td>0.109738</td>\n",
       "      <td>0.015356</td>\n",
       "      <td>0.025132</td>\n",
       "      <td>1.000000</td>\n",
       "      <td>0.407565</td>\n",
       "      <td>0.009608</td>\n",
       "      <td>0.092234</td>\n",
       "      <td>0.077162</td>\n",
       "      <td>0.083433</td>\n",
       "      <td>-0.021981</td>\n",
       "      <td>0.094268</td>\n",
       "      <td>0.034282</td>\n",
       "      <td>-0.013331</td>\n",
       "      <td>-0.042728</td>\n",
       "      <td>0.091090</td>\n",
       "      <td>0.026895</td>\n",
       "    </tr>\n",
       "    <tr>\n",
       "      <th>view</th>\n",
       "      <td>0.012594</td>\n",
       "      <td>0.395485</td>\n",
       "      <td>0.079741</td>\n",
       "      <td>0.188817</td>\n",
       "      <td>0.283336</td>\n",
       "      <td>0.073058</td>\n",
       "      <td>0.025883</td>\n",
       "      <td>0.407565</td>\n",
       "      <td>1.000000</td>\n",
       "      <td>0.045060</td>\n",
       "      <td>0.249554</td>\n",
       "      <td>0.164747</td>\n",
       "      <td>0.279939</td>\n",
       "      <td>-0.049593</td>\n",
       "      <td>0.091291</td>\n",
       "      <td>0.089475</td>\n",
       "      <td>0.003820</td>\n",
       "      <td>-0.077572</td>\n",
       "      <td>0.279999</td>\n",
       "      <td>0.073185</td>\n",
       "    </tr>\n",
       "    <tr>\n",
       "      <th>condition</th>\n",
       "      <td>-0.014272</td>\n",
       "      <td>0.036099</td>\n",
       "      <td>0.025266</td>\n",
       "      <td>-0.122976</td>\n",
       "      <td>-0.061530</td>\n",
       "      <td>-0.013715</td>\n",
       "      <td>-0.259230</td>\n",
       "      <td>0.009608</td>\n",
       "      <td>0.045060</td>\n",
       "      <td>1.000000</td>\n",
       "      <td>-0.142066</td>\n",
       "      <td>-0.157466</td>\n",
       "      <td>0.166923</td>\n",
       "      <td>-0.358921</td>\n",
       "      <td>-0.060969</td>\n",
       "      <td>0.007068</td>\n",
       "      <td>-0.009927</td>\n",
       "      <td>-0.109200</td>\n",
       "      <td>-0.094307</td>\n",
       "      <td>-0.007125</td>\n",
       "    </tr>\n",
       "    <tr>\n",
       "      <th>grade</th>\n",
       "      <td>0.003163</td>\n",
       "      <td>0.666215</td>\n",
       "      <td>0.354679</td>\n",
       "      <td>0.664191</td>\n",
       "      <td>0.762929</td>\n",
       "      <td>0.110320</td>\n",
       "      <td>0.458984</td>\n",
       "      <td>0.092234</td>\n",
       "      <td>0.249554</td>\n",
       "      <td>-0.142066</td>\n",
       "      <td>1.000000</td>\n",
       "      <td>0.758247</td>\n",
       "      <td>0.165003</td>\n",
       "      <td>0.448003</td>\n",
       "      <td>0.007988</td>\n",
       "      <td>-0.184946</td>\n",
       "      <td>0.116196</td>\n",
       "      <td>0.198369</td>\n",
       "      <td>0.715745</td>\n",
       "      <td>0.116062</td>\n",
       "    </tr>\n",
       "    <tr>\n",
       "      <th>sqft_above</th>\n",
       "      <td>-0.013932</td>\n",
       "      <td>0.607760</td>\n",
       "      <td>0.472492</td>\n",
       "      <td>0.686853</td>\n",
       "      <td>0.876696</td>\n",
       "      <td>0.180755</td>\n",
       "      <td>0.528509</td>\n",
       "      <td>0.077162</td>\n",
       "      <td>0.164747</td>\n",
       "      <td>-0.157466</td>\n",
       "      <td>0.758247</td>\n",
       "      <td>1.000000</td>\n",
       "      <td>-0.051199</td>\n",
       "      <td>0.424328</td>\n",
       "      <td>0.020413</td>\n",
       "      <td>-0.259745</td>\n",
       "      <td>0.001374</td>\n",
       "      <td>0.338192</td>\n",
       "      <td>0.731077</td>\n",
       "      <td>0.193874</td>\n",
       "    </tr>\n",
       "    <tr>\n",
       "      <th>sqft_basement</th>\n",
       "      <td>-0.003516</td>\n",
       "      <td>0.323312</td>\n",
       "      <td>0.300085</td>\n",
       "      <td>0.282700</td>\n",
       "      <td>0.435529</td>\n",
       "      <td>0.008065</td>\n",
       "      <td>-0.247481</td>\n",
       "      <td>0.083433</td>\n",
       "      <td>0.279939</td>\n",
       "      <td>0.166923</td>\n",
       "      <td>0.165003</td>\n",
       "      <td>-0.051199</td>\n",
       "      <td>1.000000</td>\n",
       "      <td>-0.130948</td>\n",
       "      <td>0.068611</td>\n",
       "      <td>0.079368</td>\n",
       "      <td>0.106727</td>\n",
       "      <td>-0.146112</td>\n",
       "      <td>0.199521</td>\n",
       "      <td>0.010007</td>\n",
       "    </tr>\n",
       "    <tr>\n",
       "      <th>yr_built</th>\n",
       "      <td>0.013697</td>\n",
       "      <td>0.056450</td>\n",
       "      <td>0.153769</td>\n",
       "      <td>0.507761</td>\n",
       "      <td>0.319397</td>\n",
       "      <td>0.054228</td>\n",
       "      <td>0.483657</td>\n",
       "      <td>-0.021981</td>\n",
       "      <td>-0.049593</td>\n",
       "      <td>-0.358921</td>\n",
       "      <td>0.448003</td>\n",
       "      <td>0.424328</td>\n",
       "      <td>-0.130948</td>\n",
       "      <td>1.000000</td>\n",
       "      <td>-0.222668</td>\n",
       "      <td>-0.348366</td>\n",
       "      <td>-0.145220</td>\n",
       "      <td>0.407768</td>\n",
       "      <td>0.332340</td>\n",
       "      <td>0.076624</td>\n",
       "    </tr>\n",
       "    <tr>\n",
       "      <th>yr_renovated</th>\n",
       "      <td>-0.019560</td>\n",
       "      <td>0.117770</td>\n",
       "      <td>0.013679</td>\n",
       "      <td>0.048140</td>\n",
       "      <td>0.051448</td>\n",
       "      <td>0.004520</td>\n",
       "      <td>0.005985</td>\n",
       "      <td>0.094268</td>\n",
       "      <td>0.091291</td>\n",
       "      <td>-0.060969</td>\n",
       "      <td>0.007988</td>\n",
       "      <td>0.020413</td>\n",
       "      <td>0.068611</td>\n",
       "      <td>-0.222668</td>\n",
       "      <td>1.000000</td>\n",
       "      <td>0.063641</td>\n",
       "      <td>0.027804</td>\n",
       "      <td>-0.061159</td>\n",
       "      <td>-0.010221</td>\n",
       "      <td>0.004489</td>\n",
       "    </tr>\n",
       "    <tr>\n",
       "      <th>zipcode</th>\n",
       "      <td>-0.008166</td>\n",
       "      <td>-0.048958</td>\n",
       "      <td>-0.147515</td>\n",
       "      <td>-0.201527</td>\n",
       "      <td>-0.195893</td>\n",
       "      <td>-0.126590</td>\n",
       "      <td>-0.060560</td>\n",
       "      <td>0.034282</td>\n",
       "      <td>0.089475</td>\n",
       "      <td>0.007068</td>\n",
       "      <td>-0.184946</td>\n",
       "      <td>-0.259745</td>\n",
       "      <td>0.079368</td>\n",
       "      <td>-0.348366</td>\n",
       "      <td>0.063641</td>\n",
       "      <td>1.000000</td>\n",
       "      <td>0.264712</td>\n",
       "      <td>-0.563027</td>\n",
       "      <td>-0.273903</td>\n",
       "      <td>-0.145921</td>\n",
       "    </tr>\n",
       "    <tr>\n",
       "      <th>lat</th>\n",
       "      <td>-0.001865</td>\n",
       "      <td>0.302394</td>\n",
       "      <td>-0.002170</td>\n",
       "      <td>0.023074</td>\n",
       "      <td>0.052646</td>\n",
       "      <td>-0.082029</td>\n",
       "      <td>0.048227</td>\n",
       "      <td>-0.013331</td>\n",
       "      <td>0.003820</td>\n",
       "      <td>-0.009927</td>\n",
       "      <td>0.116196</td>\n",
       "      <td>0.001374</td>\n",
       "      <td>0.106727</td>\n",
       "      <td>-0.145220</td>\n",
       "      <td>0.027804</td>\n",
       "      <td>0.264712</td>\n",
       "      <td>1.000000</td>\n",
       "      <td>-0.131514</td>\n",
       "      <td>0.054175</td>\n",
       "      <td>-0.086265</td>\n",
       "    </tr>\n",
       "    <tr>\n",
       "      <th>long</th>\n",
       "      <td>0.017388</td>\n",
       "      <td>0.019327</td>\n",
       "      <td>0.124279</td>\n",
       "      <td>0.221308</td>\n",
       "      <td>0.234453</td>\n",
       "      <td>0.226190</td>\n",
       "      <td>0.128795</td>\n",
       "      <td>-0.042728</td>\n",
       "      <td>-0.077572</td>\n",
       "      <td>-0.109200</td>\n",
       "      <td>0.198369</td>\n",
       "      <td>0.338192</td>\n",
       "      <td>-0.146112</td>\n",
       "      <td>0.407768</td>\n",
       "      <td>-0.061159</td>\n",
       "      <td>-0.563027</td>\n",
       "      <td>-0.131514</td>\n",
       "      <td>1.000000</td>\n",
       "      <td>0.327882</td>\n",
       "      <td>0.253981</td>\n",
       "    </tr>\n",
       "    <tr>\n",
       "      <th>sqft_living15</th>\n",
       "      <td>-0.007494</td>\n",
       "      <td>0.585567</td>\n",
       "      <td>0.387589</td>\n",
       "      <td>0.568080</td>\n",
       "      <td>0.755066</td>\n",
       "      <td>0.136959</td>\n",
       "      <td>0.283933</td>\n",
       "      <td>0.091090</td>\n",
       "      <td>0.279999</td>\n",
       "      <td>-0.094307</td>\n",
       "      <td>0.715745</td>\n",
       "      <td>0.731077</td>\n",
       "      <td>0.199521</td>\n",
       "      <td>0.332340</td>\n",
       "      <td>-0.010221</td>\n",
       "      <td>-0.273903</td>\n",
       "      <td>0.054175</td>\n",
       "      <td>0.327882</td>\n",
       "      <td>1.000000</td>\n",
       "      <td>0.178533</td>\n",
       "    </tr>\n",
       "    <tr>\n",
       "      <th>sqft_lot15</th>\n",
       "      <td>-0.139605</td>\n",
       "      <td>0.081423</td>\n",
       "      <td>0.026665</td>\n",
       "      <td>0.086499</td>\n",
       "      <td>0.179570</td>\n",
       "      <td>0.701875</td>\n",
       "      <td>-0.008170</td>\n",
       "      <td>0.026895</td>\n",
       "      <td>0.073185</td>\n",
       "      <td>-0.007125</td>\n",
       "      <td>0.116062</td>\n",
       "      <td>0.193874</td>\n",
       "      <td>0.010007</td>\n",
       "      <td>0.076624</td>\n",
       "      <td>0.004489</td>\n",
       "      <td>-0.145921</td>\n",
       "      <td>-0.086265</td>\n",
       "      <td>0.253981</td>\n",
       "      <td>0.178533</td>\n",
       "      <td>1.000000</td>\n",
       "    </tr>\n",
       "  </tbody>\n",
       "</table>\n",
       "</div>"
      ],
      "text/plain": [
       "                     id     price  bedrooms  bathrooms  sqft_living  sqft_lot  \\\n",
       "id             1.000000 -0.015644 -0.001529   0.003833    -0.014251 -0.129837   \n",
       "price         -0.015644  1.000000  0.305106   0.524335     0.703540  0.086803   \n",
       "bedrooms      -0.001529  0.305106  1.000000   0.507867     0.570428  0.029375   \n",
       "bathrooms      0.003833  0.524335  0.507867   1.000000     0.755270  0.085470   \n",
       "sqft_living   -0.014251  0.703540  0.570428   0.755270     1.000000  0.166810   \n",
       "sqft_lot      -0.129837  0.086803  0.029375   0.085470     0.166810  1.000000   \n",
       "floors         0.017126  0.256985  0.172975   0.497967     0.357169 -0.002205   \n",
       "waterfront     0.000101  0.275779 -0.008581   0.065848     0.109738  0.015356   \n",
       "view           0.012594  0.395485  0.079741   0.188817     0.283336  0.073058   \n",
       "condition     -0.014272  0.036099  0.025266  -0.122976    -0.061530 -0.013715   \n",
       "grade          0.003163  0.666215  0.354679   0.664191     0.762929  0.110320   \n",
       "sqft_above    -0.013932  0.607760  0.472492   0.686853     0.876696  0.180755   \n",
       "sqft_basement -0.003516  0.323312  0.300085   0.282700     0.435529  0.008065   \n",
       "yr_built       0.013697  0.056450  0.153769   0.507761     0.319397  0.054228   \n",
       "yr_renovated  -0.019560  0.117770  0.013679   0.048140     0.051448  0.004520   \n",
       "zipcode       -0.008166 -0.048958 -0.147515  -0.201527    -0.195893 -0.126590   \n",
       "lat           -0.001865  0.302394 -0.002170   0.023074     0.052646 -0.082029   \n",
       "long           0.017388  0.019327  0.124279   0.221308     0.234453  0.226190   \n",
       "sqft_living15 -0.007494  0.585567  0.387589   0.568080     0.755066  0.136959   \n",
       "sqft_lot15    -0.139605  0.081423  0.026665   0.086499     0.179570  0.701875   \n",
       "\n",
       "                 floors  waterfront      view  condition     grade  \\\n",
       "id             0.017126    0.000101  0.012594  -0.014272  0.003163   \n",
       "price          0.256985    0.275779  0.395485   0.036099  0.666215   \n",
       "bedrooms       0.172975   -0.008581  0.079741   0.025266  0.354679   \n",
       "bathrooms      0.497967    0.065848  0.188817  -0.122976  0.664191   \n",
       "sqft_living    0.357169    0.109738  0.283336  -0.061530  0.762929   \n",
       "sqft_lot      -0.002205    0.015356  0.073058  -0.013715  0.110320   \n",
       "floors         1.000000    0.025132  0.025883  -0.259230  0.458984   \n",
       "waterfront     0.025132    1.000000  0.407565   0.009608  0.092234   \n",
       "view           0.025883    0.407565  1.000000   0.045060  0.249554   \n",
       "condition     -0.259230    0.009608  0.045060   1.000000 -0.142066   \n",
       "grade          0.458984    0.092234  0.249554  -0.142066  1.000000   \n",
       "sqft_above     0.528509    0.077162  0.164747  -0.157466  0.758247   \n",
       "sqft_basement -0.247481    0.083433  0.279939   0.166923  0.165003   \n",
       "yr_built       0.483657   -0.021981 -0.049593  -0.358921  0.448003   \n",
       "yr_renovated   0.005985    0.094268  0.091291  -0.060969  0.007988   \n",
       "zipcode       -0.060560    0.034282  0.089475   0.007068 -0.184946   \n",
       "lat            0.048227   -0.013331  0.003820  -0.009927  0.116196   \n",
       "long           0.128795   -0.042728 -0.077572  -0.109200  0.198369   \n",
       "sqft_living15  0.283933    0.091090  0.279999  -0.094307  0.715745   \n",
       "sqft_lot15    -0.008170    0.026895  0.073185  -0.007125  0.116062   \n",
       "\n",
       "               sqft_above  sqft_basement  yr_built  yr_renovated   zipcode  \\\n",
       "id              -0.013932      -0.003516  0.013697     -0.019560 -0.008166   \n",
       "price            0.607760       0.323312  0.056450      0.117770 -0.048958   \n",
       "bedrooms         0.472492       0.300085  0.153769      0.013679 -0.147515   \n",
       "bathrooms        0.686853       0.282700  0.507761      0.048140 -0.201527   \n",
       "sqft_living      0.876696       0.435529  0.319397      0.051448 -0.195893   \n",
       "sqft_lot         0.180755       0.008065  0.054228      0.004520 -0.126590   \n",
       "floors           0.528509      -0.247481  0.483657      0.005985 -0.060560   \n",
       "waterfront       0.077162       0.083433 -0.021981      0.094268  0.034282   \n",
       "view             0.164747       0.279939 -0.049593      0.091291  0.089475   \n",
       "condition       -0.157466       0.166923 -0.358921     -0.060969  0.007068   \n",
       "grade            0.758247       0.165003  0.448003      0.007988 -0.184946   \n",
       "sqft_above       1.000000      -0.051199  0.424328      0.020413 -0.259745   \n",
       "sqft_basement   -0.051199       1.000000 -0.130948      0.068611  0.079368   \n",
       "yr_built         0.424328      -0.130948  1.000000     -0.222668 -0.348366   \n",
       "yr_renovated     0.020413       0.068611 -0.222668      1.000000  0.063641   \n",
       "zipcode         -0.259745       0.079368 -0.348366      0.063641  1.000000   \n",
       "lat              0.001374       0.106727 -0.145220      0.027804  0.264712   \n",
       "long             0.338192      -0.146112  0.407768     -0.061159 -0.563027   \n",
       "sqft_living15    0.731077       0.199521  0.332340     -0.010221 -0.273903   \n",
       "sqft_lot15       0.193874       0.010007  0.076624      0.004489 -0.145921   \n",
       "\n",
       "                    lat      long  sqft_living15  sqft_lot15  \n",
       "id            -0.001865  0.017388      -0.007494   -0.139605  \n",
       "price          0.302394  0.019327       0.585567    0.081423  \n",
       "bedrooms      -0.002170  0.124279       0.387589    0.026665  \n",
       "bathrooms      0.023074  0.221308       0.568080    0.086499  \n",
       "sqft_living    0.052646  0.234453       0.755066    0.179570  \n",
       "sqft_lot      -0.082029  0.226190       0.136959    0.701875  \n",
       "floors         0.048227  0.128795       0.283933   -0.008170  \n",
       "waterfront    -0.013331 -0.042728       0.091090    0.026895  \n",
       "view           0.003820 -0.077572       0.279999    0.073185  \n",
       "condition     -0.009927 -0.109200      -0.094307   -0.007125  \n",
       "grade          0.116196  0.198369       0.715745    0.116062  \n",
       "sqft_above     0.001374  0.338192       0.731077    0.193874  \n",
       "sqft_basement  0.106727 -0.146112       0.199521    0.010007  \n",
       "yr_built      -0.145220  0.407768       0.332340    0.076624  \n",
       "yr_renovated   0.027804 -0.061159      -0.010221    0.004489  \n",
       "zipcode        0.264712 -0.563027      -0.273903   -0.145921  \n",
       "lat            1.000000 -0.131514       0.054175   -0.086265  \n",
       "long          -0.131514  1.000000       0.327882    0.253981  \n",
       "sqft_living15  0.054175  0.327882       1.000000    0.178533  \n",
       "sqft_lot15    -0.086265  0.253981       0.178533    1.000000  "
      ]
     },
     "execution_count": 14,
     "metadata": {},
     "output_type": "execute_result"
    }
   ],
   "source": [
    "df1.corr()"
   ]
  },
  {
   "cell_type": "code",
   "execution_count": 15,
   "metadata": {
    "collapsed": true
   },
   "outputs": [
    {
     "data": {
      "text/plain": [
       "<matplotlib.axes._subplots.AxesSubplot at 0x7ff1c204cba8>"
      ]
     },
     "execution_count": 15,
     "metadata": {},
     "output_type": "execute_result"
    },
    {
     "data": {
      "image/png": "[encoded data removed]",
      "text/plain": [
       "<Figure size 864x648 with 2 Axes>"
      ]
     },
     "metadata": {},
     "output_type": "display_data"
    }
   ],
   "source": [
    "corr = df1.drop(columns = ['id']).corr()\n",
    "sns.set(rc={'figure.figsize':(12,9)})\n",
    "sns.heatmap(corr, xticklabels=corr.columns, \\\n",
    "            yticklabels=corr.columns, \\\n",
    "            annot=False, cmap='bwr', center= 0)"
   ]
  },
  {
   "cell_type": "code",
   "execution_count": 16,
   "metadata": {},
   "outputs": [],
   "source": [
    "target = df1['price']"
   ]
  },
  {
   "cell_type": "code",
   "execution_count": 17,
   "metadata": {},
   "outputs": [
    {
     "data": {
      "image/png": "[encoded data removed]",
      "text/plain": [
       "<Figure size 504x288 with 1 Axes>"
      ]
     },
     "metadata": {},
     "output_type": "display_data"
    }
   ],
   "source": [
    "fig, ax = plt.subplots(figsize = (7,4))\n",
    "ax.hist(df1['price'], bins = 50);"
   ]
  },
  {
   "cell_type": "code",
   "execution_count": 18,
   "metadata": {},
   "outputs": [
    {
     "data": {
      "image/png": "[encoded data removed]",
      "text/plain": [
       "<Figure size 504x288 with 1 Axes>"
      ]
     },
     "metadata": {},
     "output_type": "display_data"
    },
    {
     "data": {
      "image/png": "[encoded data removed]",
      "text/plain": [
       "<Figure size 504x288 with 1 Axes>"
      ]
     },
     "metadata": {},
     "output_type": "display_data"
    }
   ],
   "source": [
    "#transformed histogram and normal probability plot\n",
    "df1['price_log'] = np.log(df1['price'])\n",
    "target_log = df1['price_log']\n",
    "from scipy import stats\n",
    "from scipy.stats import norm\n",
    "fig = plt.figure(figsize = (7,4))\n",
    "sns.distplot(target_log, fit=norm,  bins=50, kde=False);\n",
    "fig = plt.figure(figsize = (7,4))\n",
    "res = stats.probplot(df1['price_log'], plot=plt)"
   ]
  },
  {
   "cell_type": "code",
   "execution_count": 20,
   "metadata": {},
   "outputs": [
    {
     "data": {
      "text/plain": [
       "<matplotlib.axes._subplots.AxesSubplot at 0x7ff1c20877b8>"
      ]
     },
     "execution_count": 20,
     "metadata": {},
     "output_type": "execute_result"
    },
    {
     "data": {
      "image/png": "[encoded data removed]",
      "text/plain": [
       "<Figure size 504x288 with 1 Axes>"
      ]
     },
     "metadata": {},
     "output_type": "display_data"
    }
   ],
   "source": [
    "fig = plt.figure(figsize = (7,4))\n",
    "sns.boxplot(target)\n",
    "# do more here to build visualization.\n",
    "#need to understand the outlier situation"
   ]
  },
  {
   "cell_type": "code",
   "execution_count": null,
   "metadata": {},
   "outputs": [],
   "source": []
  },
  {
   "cell_type": "code",
   "execution_count": 6,
   "metadata": {
    "collapsed": true
   },
   "outputs": [
    {
     "data": {
      "text/plain": [
       "1.0    8606\n",
       "2.0    6538\n",
       "1.5    1524\n",
       "3.0     475\n",
       "2.5     140\n",
       "3.5       7\n",
       "Name: floors, dtype: int64"
      ]
     },
     "execution_count": 6,
     "metadata": {},
     "output_type": "execute_result"
    }
   ],
   "source": [
    "df1['floors'].value_counts()\n",
    "# Binning here rounding up the values?"
   ]
  },
  {
   "cell_type": "code",
   "execution_count": 7,
   "metadata": {
    "collapsed": true
   },
   "outputs": [
    {
     "data": {
      "text/plain": [
       "0    17152\n",
       "1      138\n",
       "Name: waterfront, dtype: int64"
      ]
     },
     "execution_count": 7,
     "metadata": {},
     "output_type": "execute_result"
    }
   ],
   "source": [
    "df1['waterfront'].value_counts()"
   ]
  },
  {
   "cell_type": "code",
   "execution_count": 8,
   "metadata": {
    "collapsed": true
   },
   "outputs": [
    {
     "data": {
      "text/plain": [
       "0    15571\n",
       "2      775\n",
       "3      410\n",
       "4      270\n",
       "1      264\n",
       "Name: view, dtype: int64"
      ]
     },
     "execution_count": 8,
     "metadata": {},
     "output_type": "execute_result"
    }
   ],
   "source": [
    "df1['view'].value_counts()"
   ]
  },
  {
   "cell_type": "code",
   "execution_count": 9,
   "metadata": {
    "collapsed": true
   },
   "outputs": [
    {
     "data": {
      "text/plain": [
       "3    11244\n",
       "4     4516\n",
       "5     1367\n",
       "2      139\n",
       "1       24\n",
       "Name: condition, dtype: int64"
      ]
     },
     "execution_count": 9,
     "metadata": {},
     "output_type": "execute_result"
    }
   ],
   "source": [
    "df1['condition'].value_counts()"
   ]
  },
  {
   "cell_type": "code",
   "execution_count": 10,
   "metadata": {
    "collapsed": true
   },
   "outputs": [
    {
     "data": {
      "text/plain": [
       "7     7183\n",
       "8     4848\n",
       "9     2099\n",
       "6     1648\n",
       "10     893\n",
       "11     319\n",
       "5      192\n",
       "12      72\n",
       "4       22\n",
       "13      11\n",
       "3        2\n",
       "1        1\n",
       "Name: grade, dtype: int64"
      ]
     },
     "execution_count": 10,
     "metadata": {},
     "output_type": "execute_result"
    }
   ],
   "source": [
    "df1['grade'].value_counts()"
   ]
  },
  {
   "cell_type": "code",
   "execution_count": 106,
   "metadata": {
    "collapsed": true
   },
   "outputs": [
    {
     "data": {
      "text/html": [
       "<div>\n",
       "<style scoped>\n",
       "    .dataframe tbody tr th:only-of-type {\n",
       "        vertical-align: middle;\n",
       "    }\n",
       "\n",
       "    .dataframe tbody tr th {\n",
       "        vertical-align: top;\n",
       "    }\n",
       "\n",
       "    .dataframe thead th {\n",
       "        text-align: right;\n",
       "    }\n",
       "</style>\n",
       "<table border=\"1\" class=\"dataframe\">\n",
       "  <thead>\n",
       "    <tr style=\"text-align: right;\">\n",
       "      <th></th>\n",
       "      <th>VIF</th>\n",
       "      <th>features</th>\n",
       "    </tr>\n",
       "  </thead>\n",
       "  <tbody>\n",
       "    <tr>\n",
       "      <th>0</th>\n",
       "      <td>8.16</td>\n",
       "      <td>price</td>\n",
       "    </tr>\n",
       "    <tr>\n",
       "      <th>1</th>\n",
       "      <td>19.63</td>\n",
       "      <td>bedrooms</td>\n",
       "    </tr>\n",
       "    <tr>\n",
       "      <th>2</th>\n",
       "      <td>20.89</td>\n",
       "      <td>bathrooms</td>\n",
       "    </tr>\n",
       "    <tr>\n",
       "      <th>3</th>\n",
       "      <td>13.01</td>\n",
       "      <td>floors</td>\n",
       "    </tr>\n",
       "    <tr>\n",
       "      <th>4</th>\n",
       "      <td>1.28</td>\n",
       "      <td>waterfront</td>\n",
       "    </tr>\n",
       "    <tr>\n",
       "      <th>5</th>\n",
       "      <td>1.52</td>\n",
       "      <td>view</td>\n",
       "    </tr>\n",
       "    <tr>\n",
       "      <th>6</th>\n",
       "      <td>31.84</td>\n",
       "      <td>condition</td>\n",
       "    </tr>\n",
       "    <tr>\n",
       "      <th>7</th>\n",
       "      <td>139.10</td>\n",
       "      <td>grade</td>\n",
       "    </tr>\n",
       "    <tr>\n",
       "      <th>8</th>\n",
       "      <td>1409575.94</td>\n",
       "      <td>zipcode</td>\n",
       "    </tr>\n",
       "    <tr>\n",
       "      <th>9</th>\n",
       "      <td>149717.15</td>\n",
       "      <td>lat</td>\n",
       "    </tr>\n",
       "    <tr>\n",
       "      <th>10</th>\n",
       "      <td>1220861.62</td>\n",
       "      <td>long</td>\n",
       "    </tr>\n",
       "    <tr>\n",
       "      <th>11</th>\n",
       "      <td>22.97</td>\n",
       "      <td>sqft_living15</td>\n",
       "    </tr>\n",
       "  </tbody>\n",
       "</table>\n",
       "</div>"
      ],
      "text/plain": [
       "           VIF       features\n",
       "0         8.16          price\n",
       "1        19.63       bedrooms\n",
       "2        20.89      bathrooms\n",
       "3        13.01         floors\n",
       "4         1.28     waterfront\n",
       "5         1.52           view\n",
       "6        31.84      condition\n",
       "7       139.10          grade\n",
       "8   1409575.94        zipcode\n",
       "9    149717.15            lat\n",
       "10  1220861.62           long\n",
       "11       22.97  sqft_living15"
      ]
     },
     "execution_count": 106,
     "metadata": {},
     "output_type": "execute_result"
    }
   ],
   "source": [
    "#examining VIF scores\n",
    "from statsmodels.stats.outliers_influence import variance_inflation_factor\n",
    "from statsmodels.tools.tools import add_constant\n",
    "\n",
    "df1.dropna()\n",
    "\n",
    "df_vif = df1._get_numeric_data() #to get only the numeric columns\n",
    "\n",
    "predictors= df_vif.drop(columns=['id', \"sqft_lot\",'sqft_living', 'sqft_above', 'sqft_basement', \"sqft_lot15\", \"yr_built\", \"yr_renovated\"])\n",
    "\n",
    "vif = pd.DataFrame()\n",
    "vif['VIF'] = [format(variance_inflation_factor(predictors.values, i), '.2f') for i in range(predictors.shape[1])]\n",
    "vif[\"features\"] = predictors.columns\n",
    "\n",
    "vif\n"
   ]
  },
  {
   "cell_type": "code",
   "execution_count": null,
   "metadata": {},
   "outputs": [],
   "source": []
  },
  {
   "cell_type": "code",
   "execution_count": null,
   "metadata": {},
   "outputs": [],
   "source": []
  },
  {
   "cell_type": "code",
   "execution_count": null,
   "metadata": {},
   "outputs": [],
   "source": []
  },
  {
   "cell_type": "code",
   "execution_count": null,
   "metadata": {},
   "outputs": [],
   "source": [
    " "
   ]
  },
  {
   "cell_type": "markdown",
   "metadata": {},
   "source": [
    "## Step 3: Clean up any issues (extreme values, etc.) with the data.  \n",
    "\n",
    "Remember that you can't just delete rows with extreme values. Similar observations might be present in the holdout data set, and you can't just delete those rows and not have a prediction for it. "
   ]
  },
  {
   "cell_type": "code",
   "execution_count": 22,
   "metadata": {},
   "outputs": [
    {
     "data": {
      "text/plain": [
       "(14, 22)"
      ]
     },
     "execution_count": 22,
     "metadata": {},
     "output_type": "execute_result"
    }
   ],
   "source": [
    "df1.loc[(df1['bathrooms'] == 0) | (df1['bedrooms'] == 0)].shape\n",
    "# there are 14 rows that are true to this condition. since no house can have 0\n",
    "# bedrooms or 0 bathrooms, we will have to find a way to impute of remove.\n",
    "#considering the large sample, removing the 14 rows may be a very small price to pay\n",
    "# for missing values"
   ]
  },
  {
   "cell_type": "code",
   "execution_count": 25,
   "metadata": {},
   "outputs": [
    {
     "data": {
      "image/png": "[encoded data removed]",
      "text/plain": [
       "<Figure size 576x360 with 1 Axes>"
      ]
     },
     "metadata": {},
     "output_type": "display_data"
    }
   ],
   "source": [
    "x1 = df1['bathrooms']\n",
    "y1 = df1['price']\n",
    "fig, ax = plt.subplots(figsize = (8,5))\n",
    "ax.scatter(x1, y1);\n",
    "sns.regplot(x1, y1);\n",
    "# plt.hist(x1, y1)"
   ]
  },
  {
   "cell_type": "code",
   "execution_count": 26,
   "metadata": {},
   "outputs": [],
   "source": [
    "mean1 = df1['bathrooms'].mean()"
   ]
  },
  {
   "cell_type": "code",
   "execution_count": 27,
   "metadata": {},
   "outputs": [],
   "source": [
    "df1.loc[df1['bathrooms']== 0, 'bathrooms'] = df1['bathrooms'].mean()\n",
    "df2.loc[df2['bathrooms']== 0, 'bathrooms'] = df2['bathrooms'].mean()"
   ]
  },
  {
   "cell_type": "code",
   "execution_count": 29,
   "metadata": {},
   "outputs": [
    {
     "data": {
      "text/plain": [
       "(0, 22)"
      ]
     },
     "execution_count": 29,
     "metadata": {},
     "output_type": "execute_result"
    }
   ],
   "source": [
    "df1.loc[df1['bathrooms']==0].shape"
   ]
  },
  {
   "cell_type": "code",
   "execution_count": 30,
   "metadata": {},
   "outputs": [
    {
     "data": {
      "text/plain": [
       "(0, 20)"
      ]
     },
     "execution_count": 30,
     "metadata": {},
     "output_type": "execute_result"
    }
   ],
   "source": [
    "df2.loc[df2['bathrooms']==0].shape"
   ]
  },
  {
   "cell_type": "code",
   "execution_count": 32,
   "metadata": {},
   "outputs": [
    {
     "data": {
      "text/plain": [
       "count    17290.000000\n",
       "mean         2.112921\n",
       "std          0.769135\n",
       "min          0.500000\n",
       "25%          1.500000\n",
       "50%          2.250000\n",
       "75%          2.500000\n",
       "max          8.000000\n",
       "Name: bathrooms, dtype: float64"
      ]
     },
     "execution_count": 32,
     "metadata": {},
     "output_type": "execute_result"
    }
   ],
   "source": [
    "df1['bathrooms'].describe()"
   ]
  },
  {
   "cell_type": "code",
   "execution_count": 33,
   "metadata": {},
   "outputs": [
    {
     "data": {
      "text/plain": [
       "count    4323.000000\n",
       "mean        2.322594\n",
       "std         0.781264\n",
       "min         0.750000\n",
       "25%         1.750000\n",
       "50%         2.500000\n",
       "75%         2.500000\n",
       "max         6.500000\n",
       "Name: bathrooms, dtype: float64"
      ]
     },
     "execution_count": 33,
     "metadata": {},
     "output_type": "execute_result"
    }
   ],
   "source": [
    "df2['bathrooms'].describe()"
   ]
  },
  {
   "cell_type": "code",
   "execution_count": 35,
   "metadata": {},
   "outputs": [
    {
     "data": {
      "image/png": "[encoded data removed]",
      "text/plain": [
       "<Figure size 576x360 with 1 Axes>"
      ]
     },
     "metadata": {},
     "output_type": "display_data"
    }
   ],
   "source": [
    "x1 = df1['bedrooms']\n",
    "y1 = df1['price']\n",
    "fig, ax = plt.subplots( figsize = (8,5))\n",
    "ax.scatter(x1, y1);\n",
    "sns.regplot(x1, y1);\n",
    "# ax2.hist(x1, y1)"
   ]
  },
  {
   "cell_type": "code",
   "execution_count": 38,
   "metadata": {},
   "outputs": [
    {
     "data": {
      "text/plain": [
       "(0, 22)"
      ]
     },
     "execution_count": 38,
     "metadata": {},
     "output_type": "execute_result"
    }
   ],
   "source": [
    "df1.loc[df1['bedrooms']== 0, 'bedrooms'] = df1['bedrooms'].mean()\n",
    "df2.loc[df2['bedrooms']== 0, 'bedrooms'] = df2['bedrooms'].mean()\n",
    "df1.loc[df1['bedrooms']==0].shape"
   ]
  },
  {
   "cell_type": "code",
   "execution_count": 40,
   "metadata": {},
   "outputs": [
    {
     "data": {
      "text/plain": [
       "(0, 20)"
      ]
     },
     "execution_count": 40,
     "metadata": {},
     "output_type": "execute_result"
    }
   ],
   "source": [
    "df2.loc[df2['bedrooms']==0].shape"
   ]
  },
  {
   "cell_type": "code",
   "execution_count": 41,
   "metadata": {},
   "outputs": [
    {
     "data": {
      "text/plain": [
       "count    17290.000000\n",
       "mean         3.374810\n",
       "std          0.935131\n",
       "min          1.000000\n",
       "25%          3.000000\n",
       "50%          3.000000\n",
       "75%          4.000000\n",
       "max         33.000000\n",
       "Name: bedrooms, dtype: float64"
      ]
     },
     "execution_count": 41,
     "metadata": {},
     "output_type": "execute_result"
    }
   ],
   "source": [
    "df1['bedrooms'].describe()"
   ]
  },
  {
   "cell_type": "code",
   "execution_count": 42,
   "metadata": {},
   "outputs": [
    {
     "data": {
      "text/plain": [
       "count    4323.000000\n",
       "mean        3.388798\n",
       "std         0.903079\n",
       "min         1.000000\n",
       "25%         3.000000\n",
       "50%         3.000000\n",
       "75%         4.000000\n",
       "max        10.000000\n",
       "Name: bedrooms, dtype: float64"
      ]
     },
     "execution_count": 42,
     "metadata": {},
     "output_type": "execute_result"
    }
   ],
   "source": [
    "df2['bedrooms'].describe()"
   ]
  },
  {
   "cell_type": "code",
   "execution_count": 44,
   "metadata": {},
   "outputs": [
    {
     "data": {
      "text/html": [
       "<div>\n",
       "<style scoped>\n",
       "    .dataframe tbody tr th:only-of-type {\n",
       "        vertical-align: middle;\n",
       "    }\n",
       "\n",
       "    .dataframe tbody tr th {\n",
       "        vertical-align: top;\n",
       "    }\n",
       "\n",
       "    .dataframe thead th {\n",
       "        text-align: right;\n",
       "    }\n",
       "</style>\n",
       "<table border=\"1\" class=\"dataframe\">\n",
       "  <thead>\n",
       "    <tr style=\"text-align: right;\">\n",
       "      <th></th>\n",
       "      <th>id</th>\n",
       "      <th>date</th>\n",
       "      <th>price</th>\n",
       "      <th>bedrooms</th>\n",
       "      <th>bathrooms</th>\n",
       "      <th>sqft_living</th>\n",
       "      <th>sqft_lot</th>\n",
       "      <th>floors</th>\n",
       "      <th>waterfront</th>\n",
       "      <th>view</th>\n",
       "      <th>condition</th>\n",
       "      <th>grade</th>\n",
       "      <th>sqft_above</th>\n",
       "      <th>sqft_basement</th>\n",
       "      <th>yr_built</th>\n",
       "      <th>yr_renovated</th>\n",
       "      <th>zipcode</th>\n",
       "      <th>lat</th>\n",
       "      <th>long</th>\n",
       "      <th>sqft_living15</th>\n",
       "      <th>sqft_lot15</th>\n",
       "      <th>price_log</th>\n",
       "    </tr>\n",
       "  </thead>\n",
       "  <tbody>\n",
       "    <tr>\n",
       "      <th>8597</th>\n",
       "      <td>2402100895</td>\n",
       "      <td>20140625T000000</td>\n",
       "      <td>640000.0</td>\n",
       "      <td>33.0</td>\n",
       "      <td>1.75</td>\n",
       "      <td>1620</td>\n",
       "      <td>6000</td>\n",
       "      <td>1.0</td>\n",
       "      <td>0</td>\n",
       "      <td>0</td>\n",
       "      <td>5</td>\n",
       "      <td>7</td>\n",
       "      <td>1040</td>\n",
       "      <td>580</td>\n",
       "      <td>1947</td>\n",
       "      <td>0</td>\n",
       "      <td>98103</td>\n",
       "      <td>47.6878</td>\n",
       "      <td>-122.331</td>\n",
       "      <td>1330</td>\n",
       "      <td>4700</td>\n",
       "      <td>13.369223</td>\n",
       "    </tr>\n",
       "  </tbody>\n",
       "</table>\n",
       "</div>"
      ],
      "text/plain": [
       "              id             date     price  bedrooms  bathrooms  sqft_living  \\\n",
       "8597  2402100895  20140625T000000  640000.0      33.0       1.75         1620   \n",
       "\n",
       "      sqft_lot  floors  waterfront  view  condition  grade  sqft_above  \\\n",
       "8597      6000     1.0           0     0          5      7        1040   \n",
       "\n",
       "      sqft_basement  yr_built  yr_renovated  zipcode      lat     long  \\\n",
       "8597            580      1947             0    98103  47.6878 -122.331   \n",
       "\n",
       "      sqft_living15  sqft_lot15  price_log  \n",
       "8597           1330        4700  13.369223  "
      ]
     },
     "execution_count": 44,
     "metadata": {},
     "output_type": "execute_result"
    }
   ],
   "source": [
    "df1[df1['bedrooms']== 33]"
   ]
  },
  {
   "cell_type": "code",
   "execution_count": 45,
   "metadata": {},
   "outputs": [
    {
     "data": {
      "text/html": [
       "<div>\n",
       "<style scoped>\n",
       "    .dataframe tbody tr th:only-of-type {\n",
       "        vertical-align: middle;\n",
       "    }\n",
       "\n",
       "    .dataframe tbody tr th {\n",
       "        vertical-align: top;\n",
       "    }\n",
       "\n",
       "    .dataframe thead th {\n",
       "        text-align: right;\n",
       "    }\n",
       "</style>\n",
       "<table border=\"1\" class=\"dataframe\">\n",
       "  <thead>\n",
       "    <tr style=\"text-align: right;\">\n",
       "      <th></th>\n",
       "      <th>id</th>\n",
       "      <th>date</th>\n",
       "      <th>price</th>\n",
       "      <th>bedrooms</th>\n",
       "      <th>bathrooms</th>\n",
       "      <th>sqft_living</th>\n",
       "      <th>sqft_lot</th>\n",
       "      <th>floors</th>\n",
       "      <th>waterfront</th>\n",
       "      <th>view</th>\n",
       "      <th>condition</th>\n",
       "      <th>grade</th>\n",
       "      <th>sqft_above</th>\n",
       "      <th>sqft_basement</th>\n",
       "      <th>yr_built</th>\n",
       "      <th>yr_renovated</th>\n",
       "      <th>zipcode</th>\n",
       "      <th>lat</th>\n",
       "      <th>long</th>\n",
       "      <th>sqft_living15</th>\n",
       "      <th>sqft_lot15</th>\n",
       "      <th>price_log</th>\n",
       "    </tr>\n",
       "  </thead>\n",
       "  <tbody>\n",
       "    <tr>\n",
       "      <th>3</th>\n",
       "      <td>9522300010</td>\n",
       "      <td>20150331T000000</td>\n",
       "      <td>1490000.0</td>\n",
       "      <td>3.0</td>\n",
       "      <td>3.5</td>\n",
       "      <td>4560</td>\n",
       "      <td>14608</td>\n",
       "      <td>2.0</td>\n",
       "      <td>0</td>\n",
       "      <td>2</td>\n",
       "      <td>3</td>\n",
       "      <td>12</td>\n",
       "      <td>4560</td>\n",
       "      <td>0</td>\n",
       "      <td>1990</td>\n",
       "      <td>0</td>\n",
       "      <td>98034</td>\n",
       "      <td>47.6995</td>\n",
       "      <td>-122.228</td>\n",
       "      <td>4050</td>\n",
       "      <td>14226</td>\n",
       "      <td>14.214287</td>\n",
       "    </tr>\n",
       "    <tr>\n",
       "      <th>4</th>\n",
       "      <td>9510861140</td>\n",
       "      <td>20140714T000000</td>\n",
       "      <td>711000.0</td>\n",
       "      <td>3.0</td>\n",
       "      <td>2.5</td>\n",
       "      <td>2550</td>\n",
       "      <td>5376</td>\n",
       "      <td>2.0</td>\n",
       "      <td>0</td>\n",
       "      <td>0</td>\n",
       "      <td>3</td>\n",
       "      <td>9</td>\n",
       "      <td>2550</td>\n",
       "      <td>0</td>\n",
       "      <td>2004</td>\n",
       "      <td>0</td>\n",
       "      <td>98052</td>\n",
       "      <td>47.6647</td>\n",
       "      <td>-122.083</td>\n",
       "      <td>2250</td>\n",
       "      <td>4050</td>\n",
       "      <td>13.474428</td>\n",
       "    </tr>\n",
       "    <tr>\n",
       "      <th>7</th>\n",
       "      <td>7010701383</td>\n",
       "      <td>20141017T000000</td>\n",
       "      <td>680000.0</td>\n",
       "      <td>3.0</td>\n",
       "      <td>2.5</td>\n",
       "      <td>1800</td>\n",
       "      <td>4400</td>\n",
       "      <td>1.0</td>\n",
       "      <td>0</td>\n",
       "      <td>0</td>\n",
       "      <td>5</td>\n",
       "      <td>7</td>\n",
       "      <td>1350</td>\n",
       "      <td>450</td>\n",
       "      <td>1970</td>\n",
       "      <td>0</td>\n",
       "      <td>98199</td>\n",
       "      <td>47.6599</td>\n",
       "      <td>-122.396</td>\n",
       "      <td>1920</td>\n",
       "      <td>4400</td>\n",
       "      <td>13.429848</td>\n",
       "    </tr>\n",
       "    <tr>\n",
       "      <th>8</th>\n",
       "      <td>291310170</td>\n",
       "      <td>20140804T000000</td>\n",
       "      <td>384500.0</td>\n",
       "      <td>3.0</td>\n",
       "      <td>2.5</td>\n",
       "      <td>1600</td>\n",
       "      <td>2610</td>\n",
       "      <td>2.0</td>\n",
       "      <td>0</td>\n",
       "      <td>0</td>\n",
       "      <td>3</td>\n",
       "      <td>8</td>\n",
       "      <td>1600</td>\n",
       "      <td>0</td>\n",
       "      <td>2005</td>\n",
       "      <td>0</td>\n",
       "      <td>98027</td>\n",
       "      <td>47.5344</td>\n",
       "      <td>-122.068</td>\n",
       "      <td>1445</td>\n",
       "      <td>1288</td>\n",
       "      <td>12.859699</td>\n",
       "    </tr>\n",
       "    <tr>\n",
       "      <th>10</th>\n",
       "      <td>6840701125</td>\n",
       "      <td>20150422T000000</td>\n",
       "      <td>638000.0</td>\n",
       "      <td>3.0</td>\n",
       "      <td>1.0</td>\n",
       "      <td>1830</td>\n",
       "      <td>4400</td>\n",
       "      <td>1.5</td>\n",
       "      <td>0</td>\n",
       "      <td>0</td>\n",
       "      <td>4</td>\n",
       "      <td>8</td>\n",
       "      <td>1720</td>\n",
       "      <td>110</td>\n",
       "      <td>1930</td>\n",
       "      <td>0</td>\n",
       "      <td>98122</td>\n",
       "      <td>47.6052</td>\n",
       "      <td>-122.300</td>\n",
       "      <td>1650</td>\n",
       "      <td>4400</td>\n",
       "      <td>13.366094</td>\n",
       "    </tr>\n",
       "  </tbody>\n",
       "</table>\n",
       "</div>"
      ],
      "text/plain": [
       "            id             date      price  bedrooms  bathrooms  sqft_living  \\\n",
       "3   9522300010  20150331T000000  1490000.0       3.0        3.5         4560   \n",
       "4   9510861140  20140714T000000   711000.0       3.0        2.5         2550   \n",
       "7   7010701383  20141017T000000   680000.0       3.0        2.5         1800   \n",
       "8    291310170  20140804T000000   384500.0       3.0        2.5         1600   \n",
       "10  6840701125  20150422T000000   638000.0       3.0        1.0         1830   \n",
       "\n",
       "    sqft_lot  floors  waterfront  view  condition  grade  sqft_above  \\\n",
       "3      14608     2.0           0     2          3     12        4560   \n",
       "4       5376     2.0           0     0          3      9        2550   \n",
       "7       4400     1.0           0     0          5      7        1350   \n",
       "8       2610     2.0           0     0          3      8        1600   \n",
       "10      4400     1.5           0     0          4      8        1720   \n",
       "\n",
       "    sqft_basement  yr_built  yr_renovated  zipcode      lat     long  \\\n",
       "3               0      1990             0    98034  47.6995 -122.228   \n",
       "4               0      2004             0    98052  47.6647 -122.083   \n",
       "7             450      1970             0    98199  47.6599 -122.396   \n",
       "8               0      2005             0    98027  47.5344 -122.068   \n",
       "10            110      1930             0    98122  47.6052 -122.300   \n",
       "\n",
       "    sqft_living15  sqft_lot15  price_log  \n",
       "3            4050       14226  14.214287  \n",
       "4            2250        4050  13.474428  \n",
       "7            1920        4400  13.429848  \n",
       "8            1445        1288  12.859699  \n",
       "10           1650        4400  13.366094  "
      ]
     },
     "execution_count": 45,
     "metadata": {},
     "output_type": "execute_result"
    }
   ],
   "source": [
    "df1[df1['bedrooms']== 3].head()"
   ]
  },
  {
   "cell_type": "code",
   "execution_count": 46,
   "metadata": {},
   "outputs": [
    {
     "data": {
      "text/plain": [
       "11.0"
      ]
     },
     "execution_count": 46,
     "metadata": {},
     "output_type": "execute_result"
    }
   ],
   "source": [
    "df1.loc[df1['bedrooms']==33, 'bedrooms'] = 3\n",
    "df1['bedrooms'].max()"
   ]
  },
  {
   "cell_type": "code",
   "execution_count": 47,
   "metadata": {},
   "outputs": [
    {
     "data": {
      "text/html": [
       "<div>\n",
       "<style scoped>\n",
       "    .dataframe tbody tr th:only-of-type {\n",
       "        vertical-align: middle;\n",
       "    }\n",
       "\n",
       "    .dataframe tbody tr th {\n",
       "        vertical-align: top;\n",
       "    }\n",
       "\n",
       "    .dataframe thead th {\n",
       "        text-align: right;\n",
       "    }\n",
       "</style>\n",
       "<table border=\"1\" class=\"dataframe\">\n",
       "  <thead>\n",
       "    <tr style=\"text-align: right;\">\n",
       "      <th></th>\n",
       "      <th>id</th>\n",
       "      <th>date</th>\n",
       "      <th>price</th>\n",
       "      <th>bedrooms</th>\n",
       "      <th>bathrooms</th>\n",
       "      <th>sqft_living</th>\n",
       "      <th>sqft_lot</th>\n",
       "      <th>floors</th>\n",
       "      <th>waterfront</th>\n",
       "      <th>view</th>\n",
       "      <th>condition</th>\n",
       "      <th>grade</th>\n",
       "      <th>sqft_above</th>\n",
       "      <th>sqft_basement</th>\n",
       "      <th>yr_built</th>\n",
       "      <th>yr_renovated</th>\n",
       "      <th>zipcode</th>\n",
       "      <th>lat</th>\n",
       "      <th>long</th>\n",
       "      <th>sqft_living15</th>\n",
       "      <th>sqft_lot15</th>\n",
       "      <th>price_log</th>\n",
       "    </tr>\n",
       "  </thead>\n",
       "  <tbody>\n",
       "    <tr>\n",
       "      <th>2356</th>\n",
       "      <td>1773100755</td>\n",
       "      <td>20140821T000000</td>\n",
       "      <td>520000.0</td>\n",
       "      <td>11.0</td>\n",
       "      <td>3.00</td>\n",
       "      <td>3000</td>\n",
       "      <td>4960</td>\n",
       "      <td>2.0</td>\n",
       "      <td>0</td>\n",
       "      <td>0</td>\n",
       "      <td>3</td>\n",
       "      <td>7</td>\n",
       "      <td>2400</td>\n",
       "      <td>600</td>\n",
       "      <td>1918</td>\n",
       "      <td>1999</td>\n",
       "      <td>98106</td>\n",
       "      <td>47.5560</td>\n",
       "      <td>-122.363</td>\n",
       "      <td>1420</td>\n",
       "      <td>4960</td>\n",
       "      <td>13.161584</td>\n",
       "    </tr>\n",
       "    <tr>\n",
       "      <th>3425</th>\n",
       "      <td>424049043</td>\n",
       "      <td>20140811T000000</td>\n",
       "      <td>450000.0</td>\n",
       "      <td>9.0</td>\n",
       "      <td>7.50</td>\n",
       "      <td>4050</td>\n",
       "      <td>6504</td>\n",
       "      <td>2.0</td>\n",
       "      <td>0</td>\n",
       "      <td>0</td>\n",
       "      <td>3</td>\n",
       "      <td>7</td>\n",
       "      <td>4050</td>\n",
       "      <td>0</td>\n",
       "      <td>1996</td>\n",
       "      <td>0</td>\n",
       "      <td>98144</td>\n",
       "      <td>47.5923</td>\n",
       "      <td>-122.301</td>\n",
       "      <td>1448</td>\n",
       "      <td>3866</td>\n",
       "      <td>13.017003</td>\n",
       "    </tr>\n",
       "    <tr>\n",
       "      <th>3680</th>\n",
       "      <td>8812401450</td>\n",
       "      <td>20141229T000000</td>\n",
       "      <td>660000.0</td>\n",
       "      <td>10.0</td>\n",
       "      <td>3.00</td>\n",
       "      <td>2920</td>\n",
       "      <td>3745</td>\n",
       "      <td>2.0</td>\n",
       "      <td>0</td>\n",
       "      <td>0</td>\n",
       "      <td>4</td>\n",
       "      <td>7</td>\n",
       "      <td>1860</td>\n",
       "      <td>1060</td>\n",
       "      <td>1913</td>\n",
       "      <td>0</td>\n",
       "      <td>98105</td>\n",
       "      <td>47.6635</td>\n",
       "      <td>-122.320</td>\n",
       "      <td>1810</td>\n",
       "      <td>3745</td>\n",
       "      <td>13.399995</td>\n",
       "    </tr>\n",
       "    <tr>\n",
       "      <th>8207</th>\n",
       "      <td>8823900290</td>\n",
       "      <td>20150317T000000</td>\n",
       "      <td>1400000.0</td>\n",
       "      <td>9.0</td>\n",
       "      <td>4.00</td>\n",
       "      <td>4620</td>\n",
       "      <td>5508</td>\n",
       "      <td>2.5</td>\n",
       "      <td>0</td>\n",
       "      <td>0</td>\n",
       "      <td>3</td>\n",
       "      <td>11</td>\n",
       "      <td>3870</td>\n",
       "      <td>750</td>\n",
       "      <td>1915</td>\n",
       "      <td>0</td>\n",
       "      <td>98105</td>\n",
       "      <td>47.6684</td>\n",
       "      <td>-122.309</td>\n",
       "      <td>2710</td>\n",
       "      <td>4320</td>\n",
       "      <td>14.151983</td>\n",
       "    </tr>\n",
       "    <tr>\n",
       "      <th>8446</th>\n",
       "      <td>8823901445</td>\n",
       "      <td>20150313T000000</td>\n",
       "      <td>934000.0</td>\n",
       "      <td>9.0</td>\n",
       "      <td>3.00</td>\n",
       "      <td>2820</td>\n",
       "      <td>4480</td>\n",
       "      <td>2.0</td>\n",
       "      <td>0</td>\n",
       "      <td>0</td>\n",
       "      <td>3</td>\n",
       "      <td>7</td>\n",
       "      <td>1880</td>\n",
       "      <td>940</td>\n",
       "      <td>1918</td>\n",
       "      <td>0</td>\n",
       "      <td>98105</td>\n",
       "      <td>47.6654</td>\n",
       "      <td>-122.307</td>\n",
       "      <td>2460</td>\n",
       "      <td>4400</td>\n",
       "      <td>13.747232</td>\n",
       "    </tr>\n",
       "    <tr>\n",
       "      <th>8624</th>\n",
       "      <td>1997200215</td>\n",
       "      <td>20140507T000000</td>\n",
       "      <td>599999.0</td>\n",
       "      <td>9.0</td>\n",
       "      <td>4.50</td>\n",
       "      <td>3830</td>\n",
       "      <td>6988</td>\n",
       "      <td>2.5</td>\n",
       "      <td>0</td>\n",
       "      <td>0</td>\n",
       "      <td>3</td>\n",
       "      <td>7</td>\n",
       "      <td>2450</td>\n",
       "      <td>1380</td>\n",
       "      <td>1938</td>\n",
       "      <td>0</td>\n",
       "      <td>98103</td>\n",
       "      <td>47.6927</td>\n",
       "      <td>-122.338</td>\n",
       "      <td>1460</td>\n",
       "      <td>6291</td>\n",
       "      <td>13.304683</td>\n",
       "    </tr>\n",
       "    <tr>\n",
       "      <th>11181</th>\n",
       "      <td>627300145</td>\n",
       "      <td>20140814T000000</td>\n",
       "      <td>1148000.0</td>\n",
       "      <td>10.0</td>\n",
       "      <td>5.25</td>\n",
       "      <td>4590</td>\n",
       "      <td>10920</td>\n",
       "      <td>1.0</td>\n",
       "      <td>0</td>\n",
       "      <td>2</td>\n",
       "      <td>3</td>\n",
       "      <td>9</td>\n",
       "      <td>2500</td>\n",
       "      <td>2090</td>\n",
       "      <td>2008</td>\n",
       "      <td>0</td>\n",
       "      <td>98004</td>\n",
       "      <td>47.5861</td>\n",
       "      <td>-122.113</td>\n",
       "      <td>2730</td>\n",
       "      <td>10400</td>\n",
       "      <td>13.953532</td>\n",
       "    </tr>\n",
       "    <tr>\n",
       "      <th>14156</th>\n",
       "      <td>2902200015</td>\n",
       "      <td>20150106T000000</td>\n",
       "      <td>700000.0</td>\n",
       "      <td>9.0</td>\n",
       "      <td>3.00</td>\n",
       "      <td>3680</td>\n",
       "      <td>4400</td>\n",
       "      <td>2.0</td>\n",
       "      <td>0</td>\n",
       "      <td>0</td>\n",
       "      <td>3</td>\n",
       "      <td>7</td>\n",
       "      <td>2830</td>\n",
       "      <td>850</td>\n",
       "      <td>1908</td>\n",
       "      <td>0</td>\n",
       "      <td>98102</td>\n",
       "      <td>47.6374</td>\n",
       "      <td>-122.324</td>\n",
       "      <td>1960</td>\n",
       "      <td>2450</td>\n",
       "      <td>13.458836</td>\n",
       "    </tr>\n",
       "    <tr>\n",
       "      <th>17114</th>\n",
       "      <td>5566100170</td>\n",
       "      <td>20141029T000000</td>\n",
       "      <td>650000.0</td>\n",
       "      <td>10.0</td>\n",
       "      <td>2.00</td>\n",
       "      <td>3610</td>\n",
       "      <td>11914</td>\n",
       "      <td>2.0</td>\n",
       "      <td>0</td>\n",
       "      <td>0</td>\n",
       "      <td>4</td>\n",
       "      <td>7</td>\n",
       "      <td>3010</td>\n",
       "      <td>600</td>\n",
       "      <td>1958</td>\n",
       "      <td>0</td>\n",
       "      <td>98006</td>\n",
       "      <td>47.5705</td>\n",
       "      <td>-122.175</td>\n",
       "      <td>2040</td>\n",
       "      <td>11914</td>\n",
       "      <td>13.384728</td>\n",
       "    </tr>\n",
       "  </tbody>\n",
       "</table>\n",
       "</div>"
      ],
      "text/plain": [
       "               id             date      price  bedrooms  bathrooms  \\\n",
       "2356   1773100755  20140821T000000   520000.0      11.0       3.00   \n",
       "3425    424049043  20140811T000000   450000.0       9.0       7.50   \n",
       "3680   8812401450  20141229T000000   660000.0      10.0       3.00   \n",
       "8207   8823900290  20150317T000000  1400000.0       9.0       4.00   \n",
       "8446   8823901445  20150313T000000   934000.0       9.0       3.00   \n",
       "8624   1997200215  20140507T000000   599999.0       9.0       4.50   \n",
       "11181   627300145  20140814T000000  1148000.0      10.0       5.25   \n",
       "14156  2902200015  20150106T000000   700000.0       9.0       3.00   \n",
       "17114  5566100170  20141029T000000   650000.0      10.0       2.00   \n",
       "\n",
       "       sqft_living  sqft_lot  floors  waterfront  view  condition  grade  \\\n",
       "2356          3000      4960     2.0           0     0          3      7   \n",
       "3425          4050      6504     2.0           0     0          3      7   \n",
       "3680          2920      3745     2.0           0     0          4      7   \n",
       "8207          4620      5508     2.5           0     0          3     11   \n",
       "8446          2820      4480     2.0           0     0          3      7   \n",
       "8624          3830      6988     2.5           0     0          3      7   \n",
       "11181         4590     10920     1.0           0     2          3      9   \n",
       "14156         3680      4400     2.0           0     0          3      7   \n",
       "17114         3610     11914     2.0           0     0          4      7   \n",
       "\n",
       "       sqft_above  sqft_basement  yr_built  yr_renovated  zipcode      lat  \\\n",
       "2356         2400            600      1918          1999    98106  47.5560   \n",
       "3425         4050              0      1996             0    98144  47.5923   \n",
       "3680         1860           1060      1913             0    98105  47.6635   \n",
       "8207         3870            750      1915             0    98105  47.6684   \n",
       "8446         1880            940      1918             0    98105  47.6654   \n",
       "8624         2450           1380      1938             0    98103  47.6927   \n",
       "11181        2500           2090      2008             0    98004  47.5861   \n",
       "14156        2830            850      1908             0    98102  47.6374   \n",
       "17114        3010            600      1958             0    98006  47.5705   \n",
       "\n",
       "          long  sqft_living15  sqft_lot15  price_log  \n",
       "2356  -122.363           1420        4960  13.161584  \n",
       "3425  -122.301           1448        3866  13.017003  \n",
       "3680  -122.320           1810        3745  13.399995  \n",
       "8207  -122.309           2710        4320  14.151983  \n",
       "8446  -122.307           2460        4400  13.747232  \n",
       "8624  -122.338           1460        6291  13.304683  \n",
       "11181 -122.113           2730       10400  13.953532  \n",
       "14156 -122.324           1960        2450  13.458836  \n",
       "17114 -122.175           2040       11914  13.384728  "
      ]
     },
     "execution_count": 47,
     "metadata": {},
     "output_type": "execute_result"
    }
   ],
   "source": [
    "df1.loc[df1['bedrooms'] >= 9]"
   ]
  },
  {
   "cell_type": "code",
   "execution_count": 48,
   "metadata": {},
   "outputs": [],
   "source": [
    "df1['date1'] = df1['date'].apply(lambda x: (x[:8]))\n",
    "\n",
    "df1['date1'].astype(float)\n",
    "df1['date2']= pd.to_datetime(df1['date1'], format='%Y/%m/%d')"
   ]
  },
  {
   "cell_type": "markdown",
   "metadata": {},
   "source": [
    "### Step 4: Generate new features that you think could be important.\n",
    "\n",
    "After doing this, you will want to go back to steps 2 and 3 to investigate these new features."
   ]
  },
  {
   "cell_type": "markdown",
   "metadata": {},
   "source": []
  },
  {
   "cell_type": "markdown",
   "metadata": {},
   "source": [
    "**Possible new values:**\n",
    "1. bathroom/bedroom --- **0.2784**\n",
    "2. bathroom/ floor --- corr to price is **0.2402**\n",
    "3. bathroom/ sqft-living --- corr to price is -0.2655. Does this make sense? I think not\n",
    "4. Age of the house using yr-built --- corr to price is -0.05645. Not very correlated with price\n",
    "5. sqft_living/sqft_above to check on the proportion of usable space --- 0.1093\n",
    "6. (sqft_above + sqft_basement)/ floor to get avg sqftage per floor --- **0.4334**\n",
    "7. sqft_lot - sqft/floor to get outside open space --- 0.08\n",
    "8. sqft_living - sqft_above does the house have other spaces under the roof --- **0.3233**"
   ]
  },
  {
   "cell_type": "code",
   "execution_count": 51,
   "metadata": {},
   "outputs": [
    {
     "data": {
      "text/plain": [
       "0.32331176808688505"
      ]
     },
     "execution_count": 51,
     "metadata": {},
     "output_type": "execute_result"
    }
   ],
   "source": [
    "# Possible value 1\n",
    "df1['bath_per_bed'] = df1['bathrooms']/ df1['bedrooms']\n",
    "df1['bath_per_bed'].corr(df1['price'])\n",
    "\n",
    "#Possible value 2\n",
    "df1['bath_per_flr'] = df1['bathrooms']/ df1['floors']\n",
    "df1['bath_per_flr'].corr(df1['price'])\n",
    "\n",
    "#Possible value 3\n",
    "df1['bath_per_sqftliv'] = df1['bathrooms'] / df1['sqft_living']\n",
    "df1['bath_per_sqftliv'].corr(df1['price'])\n",
    "\n",
    "#Possible value 4\n",
    "df1['age'] = 2020 - df1['yr_built']\n",
    "df1['age'].corr(df1['price'])\n",
    "df1['age'].min()\n",
    "\n",
    "# Possible value 5\n",
    "df1['use_prop'] = df1['sqft_living']/ df1['sqft_above']\n",
    "df1['use_prop'].corr(df1['price'])\n",
    "\n",
    "# Possible value 6\n",
    "df1['sqft_per_floor'] = (df1['sqft_above'] + df1['sqft_basement'])/df1['floors']\n",
    "df1['sqft_per_floor'].corr(df1['price'])\n",
    "\n",
    "#Possible value 7\n",
    "df1['outside_space'] = df1['sqft_lot'] - df1['sqft_per_floor']\n",
    "df1['outside_space'].corr(df1['price'])\n",
    "\n",
    "#Possible value 8\n",
    "df1['other_space'] = df1['sqft_living'] - df1['sqft_above']\n",
    "df1['other_space'].corr(df1['price'])\n",
    "# this could also be a dummya"
   ]
  },
  {
   "cell_type": "code",
   "execution_count": 52,
   "metadata": {},
   "outputs": [
    {
     "data": {
      "image/png": "[encoded data removed]",
      "text/plain": [
       "<Figure size 432x288 with 1 Axes>"
      ]
     },
     "metadata": {},
     "output_type": "display_data"
    }
   ],
   "source": [
    "x1 = df1['bath_per_flr']\n",
    "fig, ax = plt.subplots(figsize = (6,4))\n",
    "ax.hist(x1);"
   ]
  },
  {
   "cell_type": "code",
   "execution_count": 53,
   "metadata": {},
   "outputs": [
    {
     "data": {
      "text/plain": [
       "count    17290.000000\n",
       "mean         1.505232\n",
       "std          0.573514\n",
       "min          0.250000\n",
       "25%          1.000000\n",
       "50%          1.250000\n",
       "75%          1.750000\n",
       "max          6.750000\n",
       "Name: bath_per_flr, dtype: float64"
      ]
     },
     "execution_count": 53,
     "metadata": {},
     "output_type": "execute_result"
    }
   ],
   "source": [
    "df1['bath_per_flr'].describe()"
   ]
  },
  {
   "cell_type": "code",
   "execution_count": null,
   "metadata": {},
   "outputs": [],
   "source": []
  },
  {
   "cell_type": "code",
   "execution_count": null,
   "metadata": {},
   "outputs": [],
   "source": []
  },
  {
   "cell_type": "code",
   "execution_count": null,
   "metadata": {},
   "outputs": [],
   "source": []
  },
  {
   "cell_type": "code",
   "execution_count": null,
   "metadata": {},
   "outputs": [],
   "source": []
  },
  {
   "cell_type": "code",
   "execution_count": null,
   "metadata": {},
   "outputs": [],
   "source": []
  },
  {
   "cell_type": "code",
   "execution_count": null,
   "metadata": {},
   "outputs": [],
   "source": []
  },
  {
   "cell_type": "code",
   "execution_count": null,
   "metadata": {},
   "outputs": [],
   "source": []
  },
  {
   "cell_type": "code",
   "execution_count": null,
   "metadata": {},
   "outputs": [],
   "source": []
  },
  {
   "cell_type": "code",
   "execution_count": null,
   "metadata": {},
   "outputs": [],
   "source": []
  },
  {
   "cell_type": "code",
   "execution_count": null,
   "metadata": {},
   "outputs": [],
   "source": []
  },
  {
   "cell_type": "markdown",
   "metadata": {},
   "source": [
    "### 4.1) Identify a categorical variable in the data set and create dummy columns."
   ]
  },
  {
   "cell_type": "markdown",
   "metadata": {},
   "source": [
    "* Categorical variables in the data set are grade, condition, \n",
    "* Other variable to possibly change to dummy --- sqft_basement, yr_renovated\n",
    "1. condition\n",
    "2. grade - grade as is, is highly correlated with price. will keep\n",
    "3. sqft_basement -  only some house have sqfootage meaning only those houses have a basement. Dummy for have or not have a basement\n",
    "4. yr_renovated - only some houses have renovation year, meaning only those houses have upgrades or renovation done. Dummy for have or not have renovation."
   ]
  },
  {
   "cell_type": "code",
   "execution_count": null,
   "metadata": {},
   "outputs": [],
   "source": [
    "df1['basement'] = df1['sqft_basement'].apply(lambda x: 1 if x > 0 else 0)\n",
    "pd.set_option('display.max_columns', None)\n",
    "df1.head()\n",
    "df1['basement'].corr(df1['price'])"
   ]
  },
  {
   "cell_type": "code",
   "execution_count": null,
   "metadata": {},
   "outputs": [],
   "source": [
    "df1['grade'].value_counts()"
   ]
  },
  {
   "cell_type": "code",
   "execution_count": null,
   "metadata": {},
   "outputs": [],
   "source": [
    "df1['yr_renovated'].value_counts()"
   ]
  },
  {
   "cell_type": "code",
   "execution_count": null,
   "metadata": {},
   "outputs": [],
   "source": [
    "df1['renovated'] = df1['yr_renovated'].apply(lambda x: 1 if x > 0 else 0)\n",
    "pd.set_option('display.max_columns', None)\n",
    "df1.head()\n",
    "df1['renovated'].corr(df1['price'])"
   ]
  },
  {
   "cell_type": "code",
   "execution_count": null,
   "metadata": {},
   "outputs": [],
   "source": [
    "conditions = [\n",
    "    df1['grade'] <= 4,\n",
    "    df1['grade'] >= 10\n",
    "]\n",
    "\n",
    "choices = [\n",
    "    'low_quality',\n",
    "    'high_quality'\n",
    "]\n",
    "df1['design_grade'] = np.select(conditions, choices, default = 'ave_quality')\n",
    "\n",
    "df1.head()"
   ]
  },
  {
   "cell_type": "code",
   "execution_count": null,
   "metadata": {},
   "outputs": [],
   "source": [
    "dummy1 = pd.get_dummies(df1['design_grade'])\n",
    "dummy1['price'] = df1['price']\n",
    "dummy1['grade'] = df1['grade']\n",
    "dummy1.corr()"
   ]
  },
  {
   "cell_type": "code",
   "execution_count": null,
   "metadata": {},
   "outputs": [],
   "source": [
    "dummy1.describe()"
   ]
  },
  {
   "cell_type": "code",
   "execution_count": null,
   "metadata": {},
   "outputs": [],
   "source": [
    "df1['condition'].value_counts()"
   ]
  },
  {
   "cell_type": "code",
   "execution_count": null,
   "metadata": {},
   "outputs": [],
   "source": [
    "conditions = [\n",
    "    df1['condition'] == 1,\n",
    "    df1['grade'] >= 4\n",
    "]\n",
    "\n",
    "choices = [\n",
    "    'low',\n",
    "    'high'\n",
    "]\n",
    "df1['status'] = np.select(conditions, choices, default = 'ave')\n",
    "\n",
    "df1.head()"
   ]
  },
  {
   "cell_type": "code",
   "execution_count": null,
   "metadata": {},
   "outputs": [],
   "source": [
    "dummy2 = pd.get_dummies(df1['status'])\n",
    "dummy2['price'] = df1['price']\n",
    "dummy2['condition'] = df1['condition']\n",
    "dummy2.corr()"
   ]
  },
  {
   "cell_type": "code",
   "execution_count": null,
   "metadata": {},
   "outputs": [],
   "source": [
    "df1['sale_quarter'] = df1['date2'].dt.quarter\n",
    "df1['sale_month'] = df1['date2'].dt.month"
   ]
  },
  {
   "cell_type": "code",
   "execution_count": null,
   "metadata": {},
   "outputs": [],
   "source": [
    "df1.columns"
   ]
  },
  {
   "cell_type": "code",
   "execution_count": null,
   "metadata": {},
   "outputs": [],
   "source": [
    "# df1.corr()"
   ]
  },
  {
   "cell_type": "markdown",
   "metadata": {},
   "source": [
    "### 4.2) There is a column that gives the date for when the house was sold, how could this be useful in your model? How might you transform the current column to a more useful feature?"
   ]
  },
  {
   "cell_type": "code",
   "execution_count": null,
   "metadata": {},
   "outputs": [],
   "source": [
    "#your code here"
   ]
  },
  {
   "cell_type": "markdown",
   "metadata": {},
   "source": [
    "### 4.3) There are columns for when the house was built and when it was renovated.  How could you use these columns to create a new column?"
   ]
  },
  {
   "cell_type": "code",
   "execution_count": null,
   "metadata": {},
   "outputs": [],
   "source": [
    "#your code here "
   ]
  },
  {
   "cell_type": "markdown",
   "metadata": {},
   "source": [
    "### <ins>Non-linear transformations</ins>\n",
    "\n",
    "### 4.4) Create a polynomial feature for two of your continuous variables."
   ]
  },
  {
   "cell_type": "code",
   "execution_count": null,
   "metadata": {},
   "outputs": [],
   "source": [
    "# your code here"
   ]
  },
  {
   "cell_type": "markdown",
   "metadata": {},
   "source": [
    "### 4.5) Create an interaction feature between a binary variable (dummy variable) and a continuous variable."
   ]
  },
  {
   "cell_type": "code",
   "execution_count": null,
   "metadata": {},
   "outputs": [],
   "source": [
    "# your code here"
   ]
  },
  {
   "cell_type": "markdown",
   "metadata": {},
   "source": [
    "## Step 5: Train-Test Split\n",
    "\n",
    "If you plan on doing any scaling of your data, make sure it is done at the appropriate time. "
   ]
  },
  {
   "cell_type": "markdown",
   "metadata": {},
   "source": [
    "### 5.1) Perform a train-test split of the data."
   ]
  },
  {
   "cell_type": "code",
   "execution_count": 1,
   "metadata": {},
   "outputs": [],
   "source": [
    "target = df1['price']\n",
    "target_log = df1['price_log']"
   ]
  },
  {
   "cell_type": "code",
   "execution_count": null,
   "metadata": {},
   "outputs": [],
   "source": [
    "target.dtype"
   ]
  },
  {
   "cell_type": "code",
   "execution_count": null,
   "metadata": {},
   "outputs": [],
   "source": [
    "features = list(df1.columns)\n",
    "# features.remove('price')\n",
    "# features.remove('price_log')\n",
    "# features.remove('date')\n",
    "# features.remove('date1')\n",
    "# features.remove('status')\n",
    "# features.remove('design_grade')\n",
    "# features.remove('date2')\n",
    "# len(features)"
   ]
  },
  {
   "cell_type": "code",
   "execution_count": null,
   "metadata": {},
   "outputs": [],
   "source": [
    "df_features1 = df1[features]\n",
    "df_features1.dtypes"
   ]
  },
  {
   "cell_type": "markdown",
   "metadata": {},
   "source": [
    "**Reword** A baseline model is a model with NO predictors. In regression essentially it is the mean ( or median) of the y-variable. We can create a baseline model in sklearn using the DummyRegressor object."
   ]
  },
  {
   "cell_type": "code",
   "execution_count": null,
   "metadata": {},
   "outputs": [],
   "source": [
    "# Baseline model\n",
    "from sklearn.dummy import DummyRegressor\n",
    "\n",
    "baseline = DummyRegressor()  # by default this will use the mean\n",
    "\n",
    "baseline.fit(X_train, y_train)\n",
    "#Note: No summary table like in statsmodel\n",
    "# Note: will be missing the p-vals and the different statistics \n",
    "#since sklearn is focused on the predictability of the model\n",
    "\n",
    "baseline.score(X_train, y_train) \n",
    "# the score of a regression model is the r-squared value\n",
    "# r-squared - How much of the outcome is explained by the features"
   ]
  },
  {
   "cell_type": "code",
   "execution_count": null,
   "metadata": {},
   "outputs": [],
   "source": [
    "y_pred_bs = baseline.predict(X_train) \n",
    "y_pred_bs"
   ]
  },
  {
   "cell_type": "code",
   "execution_count": null,
   "metadata": {},
   "outputs": [],
   "source": [
    "from sklearn.metrics import mean_squared_error\n",
    "baseline_rmse = mean_squared_error(y_train, y_pred_bs, squared=False)\n",
    "# MSE if squared is True\n",
    "# error here is due to sklearn version....pip install -U scikit-learn\n",
    "baseline_rmse"
   ]
  },
  {
   "cell_type": "code",
   "execution_count": null,
   "metadata": {},
   "outputs": [],
   "source": [
    "X_train1, X_test1, y_train1, y_test1 = train_test_split(df_features1, target, random_state=34,test_size=0.2)\n",
    "\n",
    "#check the shape of the results\n",
    "print(\"Training set - Features: \", X_train1.shape, \"Target: \", y_train1.shape,)\n",
    "print(\"Test set - Features: \", X_test1.shape, \"Target: \",y_test1.shape,)"
   ]
  },
  {
   "cell_type": "code",
   "execution_count": null,
   "metadata": {},
   "outputs": [],
   "source": []
  },
  {
   "cell_type": "markdown",
   "metadata": {},
   "source": [
    "### 5.2) Fit your scaler to training the data."
   ]
  },
  {
   "cell_type": "code",
   "execution_count": 2,
   "metadata": {},
   "outputs": [],
   "source": [
    "#your code here "
   ]
  },
  {
   "cell_type": "markdown",
   "metadata": {},
   "source": [
    "### 5.3) Transform the testing set with the scaler."
   ]
  },
  {
   "cell_type": "code",
   "execution_count": 3,
   "metadata": {},
   "outputs": [],
   "source": [
    "#your code here "
   ]
  },
  {
   "cell_type": "markdown",
   "metadata": {},
   "source": [
    "### 5.4) Fit the model to the training data."
   ]
  },
  {
   "cell_type": "code",
   "execution_count": 4,
   "metadata": {},
   "outputs": [],
   "source": [
    "# fit a model\n",
    "from sklearn import linear_model\n",
    "\n",
    "#instantiate a linear regression object\n",
    "model1 = linear_model.LinearRegression()\n",
    "\n",
    "#fit the linear regression to the data\n",
    "model1.fit(X_train1, y_train1)\n",
    "\n",
    "\n",
    "print(lm.intercept_)\n",
    "print(lm.coef_)"
   ]
  },
  {
   "cell_type": "markdown",
   "metadata": {},
   "source": [
    "### 5.5) Use the model to predict on the training set and the test set."
   ]
  },
  {
   "cell_type": "code",
   "execution_count": 5,
   "metadata": {},
   "outputs": [],
   "source": [
    "#your code here "
   ]
  },
  {
   "cell_type": "markdown",
   "metadata": {},
   "source": [
    "### 5.6) Evaluate the training and test predictions using RMSE."
   ]
  },
  {
   "cell_type": "code",
   "execution_count": 6,
   "metadata": {},
   "outputs": [],
   "source": [
    "#your code here "
   ]
  },
  {
   "cell_type": "markdown",
   "metadata": {},
   "source": [
    "### 5.7) Determine if your model is overfit."
   ]
  },
  {
   "cell_type": "code",
   "execution_count": null,
   "metadata": {},
   "outputs": [],
   "source": [
    "#your code here "
   ]
  },
  {
   "cell_type": "markdown",
   "metadata": {},
   "source": [
    "## Step 6: Utilize some different feature selection techniques before or in conjuction with fitting your models."
   ]
  },
  {
   "cell_type": "markdown",
   "metadata": {},
   "source": [
    "### 6.1) Utilize a filter method to identify some features to remove from the model.  "
   ]
  },
  {
   "cell_type": "code",
   "execution_count": 7,
   "metadata": {},
   "outputs": [],
   "source": [
    "# your code here"
   ]
  },
  {
   "cell_type": "markdown",
   "metadata": {},
   "source": [
    "### 6.2) After removing the features, re-run Step 5 and see if your new model performs better than the old model."
   ]
  },
  {
   "cell_type": "code",
   "execution_count": 8,
   "metadata": {},
   "outputs": [],
   "source": [
    "# your code here"
   ]
  },
  {
   "cell_type": "markdown",
   "metadata": {},
   "source": [
    "## Step 7: Evaluate your different models in order to determine the best model overall."
   ]
  },
  {
   "cell_type": "markdown",
   "metadata": {},
   "source": [
    "## Step 8:  Refit your best model to the entire dataset."
   ]
  },
  {
   "cell_type": "markdown",
   "metadata": {},
   "source": [
    "## Step 9: Save your final model using pickle.\n",
    "\n",
    "https://machinelearningmastery.com/save-load-machine-learning-models-python-scikit-learn/"
   ]
  },
  {
   "cell_type": "code",
   "execution_count": null,
   "metadata": {},
   "outputs": [],
   "source": []
  }
 ],
 "metadata": {
  "kernelspec": {
   "display_name": "Python 3",
   "language": "python",
   "name": "python3"
  },
  "language_info": {
   "codemirror_mode": {
    "name": "ipython",
    "version": 3
   },
   "file_extension": ".py",
   "mimetype": "text/x-python",
   "name": "python",
   "nbconvert_exporter": "python",
   "pygments_lexer": "ipython3",
   "version": "3.6.9"
  }
 },
 "nbformat": 4,
 "nbformat_minor": 2
}
